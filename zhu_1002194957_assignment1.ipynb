{
  "nbformat": 4,
  "nbformat_minor": 0,
  "metadata": {
    "colab": {
      "name": "MIE1624 Assignment 1.ipynb",
      "provenance": [],
      "collapsed_sections": [],
      "toc_visible": true
    },
    "kernelspec": {
      "name": "python3",
      "display_name": "Python 3"
    },
    "language_info": {
      "name": "python"
    }
  },
  "cells": [
    {
      "cell_type": "markdown",
      "metadata": {
        "id": "lLOZ8qLjwIlN"
      },
      "source": [
        "# **MIE1624 Assignment 1**\n",
        "\n",
        "**Sicheng Zhu 1002194957** "
      ]
    },
    {
      "cell_type": "code",
      "metadata": {
        "id": "He2OQZDVPjz6"
      },
      "source": [
        "import numpy as np\n",
        "import pandas as pd\n",
        "import matplotlib.pyplot as plt\n",
        "import scipy\n",
        "import scipy.stats as stats"
      ],
      "execution_count": 75,
      "outputs": []
    },
    {
      "cell_type": "code",
      "metadata": {
        "colab": {
          "base_uri": "https://localhost:8080/"
        },
        "id": "nG_8F4p1Q4gs",
        "outputId": "d43cdfc0-e569-48bb-fa69-afcfb7e2ab3d"
      },
      "source": [
        "#load the csv file \n",
        "df = pd.read_csv('clean_kaggle_data.csv',index_col = 0)"
      ],
      "execution_count": 76,
      "outputs": [
        {
          "output_type": "stream",
          "name": "stderr",
          "text": [
            "/usr/local/lib/python3.7/dist-packages/IPython/core/interactiveshell.py:2718: DtypeWarning: Columns (207) have mixed types.Specify dtype option on import or set low_memory=False.\n",
            "  interactivity=interactivity, compiler=compiler, result=result)\n"
          ]
        }
      ]
    },
    {
      "cell_type": "code",
      "metadata": {
        "colab": {
          "base_uri": "https://localhost:8080/",
          "height": 521
        },
        "id": "BT-uIEjBSuP2",
        "outputId": "e5597899-637e-4dcd-92fc-7dda05d64809"
      },
      "source": [
        "df.head()#show the top 5 rows of the data"
      ],
      "execution_count": 77,
      "outputs": [
        {
          "output_type": "execute_result",
          "data": {
            "text/html": [
              "<div>\n",
              "<style scoped>\n",
              "    .dataframe tbody tr th:only-of-type {\n",
              "        vertical-align: middle;\n",
              "    }\n",
              "\n",
              "    .dataframe tbody tr th {\n",
              "        vertical-align: top;\n",
              "    }\n",
              "\n",
              "    .dataframe thead th {\n",
              "        text-align: right;\n",
              "    }\n",
              "</style>\n",
              "<table border=\"1\" class=\"dataframe\">\n",
              "  <thead>\n",
              "    <tr style=\"text-align: right;\">\n",
              "      <th></th>\n",
              "      <th>Time from Start to Finish (seconds)</th>\n",
              "      <th>Q1</th>\n",
              "      <th>Q2</th>\n",
              "      <th>Q3</th>\n",
              "      <th>Q4</th>\n",
              "      <th>Q5</th>\n",
              "      <th>Q6</th>\n",
              "      <th>Q7_Part_1</th>\n",
              "      <th>Q7_Part_2</th>\n",
              "      <th>Q7_Part_3</th>\n",
              "      <th>Q7_Part_4</th>\n",
              "      <th>Q7_Part_5</th>\n",
              "      <th>Q7_Part_6</th>\n",
              "      <th>Q7_Part_7</th>\n",
              "      <th>Q7_Part_8</th>\n",
              "      <th>Q7_Part_9</th>\n",
              "      <th>Q7_Part_10</th>\n",
              "      <th>Q7_Part_11</th>\n",
              "      <th>Q7_Part_12</th>\n",
              "      <th>Q7_OTHER</th>\n",
              "      <th>Q8</th>\n",
              "      <th>Q9_Part_1</th>\n",
              "      <th>Q9_Part_2</th>\n",
              "      <th>Q9_Part_3</th>\n",
              "      <th>Q9_Part_4</th>\n",
              "      <th>Q9_Part_5</th>\n",
              "      <th>Q9_Part_6</th>\n",
              "      <th>Q9_Part_7</th>\n",
              "      <th>Q9_Part_8</th>\n",
              "      <th>Q9_Part_9</th>\n",
              "      <th>Q9_Part_10</th>\n",
              "      <th>Q9_Part_11</th>\n",
              "      <th>Q9_OTHER</th>\n",
              "      <th>Q10_Part_1</th>\n",
              "      <th>Q10_Part_2</th>\n",
              "      <th>Q10_Part_3</th>\n",
              "      <th>Q10_Part_4</th>\n",
              "      <th>Q10_Part_5</th>\n",
              "      <th>Q10_Part_6</th>\n",
              "      <th>Q10_Part_7</th>\n",
              "      <th>...</th>\n",
              "      <th>Q31_B_Part_7</th>\n",
              "      <th>Q31_B_Part_8</th>\n",
              "      <th>Q31_B_Part_9</th>\n",
              "      <th>Q31_B_Part_10</th>\n",
              "      <th>Q31_B_Part_11</th>\n",
              "      <th>Q31_B_Part_12</th>\n",
              "      <th>Q31_B_Part_13</th>\n",
              "      <th>Q31_B_Part_14</th>\n",
              "      <th>Q31_B_OTHER</th>\n",
              "      <th>Q33_B_Part_1</th>\n",
              "      <th>Q33_B_Part_2</th>\n",
              "      <th>Q33_B_Part_3</th>\n",
              "      <th>Q33_B_Part_4</th>\n",
              "      <th>Q33_B_Part_5</th>\n",
              "      <th>Q33_B_Part_6</th>\n",
              "      <th>Q33_B_Part_7</th>\n",
              "      <th>Q33_B_OTHER</th>\n",
              "      <th>Q34_B_Part_1</th>\n",
              "      <th>Q34_B_Part_2</th>\n",
              "      <th>Q34_B_Part_3</th>\n",
              "      <th>Q34_B_Part_4</th>\n",
              "      <th>Q34_B_Part_5</th>\n",
              "      <th>Q34_B_Part_6</th>\n",
              "      <th>Q34_B_Part_7</th>\n",
              "      <th>Q34_B_Part_8</th>\n",
              "      <th>Q34_B_Part_9</th>\n",
              "      <th>Q34_B_Part_10</th>\n",
              "      <th>Q34_B_Part_11</th>\n",
              "      <th>Q34_B_OTHER</th>\n",
              "      <th>Q35_B_Part_1</th>\n",
              "      <th>Q35_B_Part_2</th>\n",
              "      <th>Q35_B_Part_3</th>\n",
              "      <th>Q35_B_Part_4</th>\n",
              "      <th>Q35_B_Part_5</th>\n",
              "      <th>Q35_B_Part_6</th>\n",
              "      <th>Q35_B_Part_7</th>\n",
              "      <th>Q35_B_Part_8</th>\n",
              "      <th>Q35_B_Part_9</th>\n",
              "      <th>Q35_B_Part_10</th>\n",
              "      <th>Q35_B_OTHER</th>\n",
              "    </tr>\n",
              "  </thead>\n",
              "  <tbody>\n",
              "    <tr>\n",
              "      <th>1</th>\n",
              "      <td>289287</td>\n",
              "      <td>30-34</td>\n",
              "      <td>Man</td>\n",
              "      <td>United States of America</td>\n",
              "      <td>Master’s degree</td>\n",
              "      <td>Data Engineer</td>\n",
              "      <td>5-10 years</td>\n",
              "      <td>Python</td>\n",
              "      <td>R</td>\n",
              "      <td>SQL</td>\n",
              "      <td>NaN</td>\n",
              "      <td>NaN</td>\n",
              "      <td>NaN</td>\n",
              "      <td>NaN</td>\n",
              "      <td>NaN</td>\n",
              "      <td>NaN</td>\n",
              "      <td>NaN</td>\n",
              "      <td>NaN</td>\n",
              "      <td>NaN</td>\n",
              "      <td>NaN</td>\n",
              "      <td>Python</td>\n",
              "      <td>NaN</td>\n",
              "      <td>NaN</td>\n",
              "      <td>Visual Studio</td>\n",
              "      <td>NaN</td>\n",
              "      <td>PyCharm</td>\n",
              "      <td>NaN</td>\n",
              "      <td>NaN</td>\n",
              "      <td>Sublime Text</td>\n",
              "      <td>NaN</td>\n",
              "      <td>NaN</td>\n",
              "      <td>NaN</td>\n",
              "      <td>NaN</td>\n",
              "      <td>NaN</td>\n",
              "      <td>Colab Notebooks</td>\n",
              "      <td>NaN</td>\n",
              "      <td>NaN</td>\n",
              "      <td>NaN</td>\n",
              "      <td>NaN</td>\n",
              "      <td>NaN</td>\n",
              "      <td>...</td>\n",
              "      <td>NaN</td>\n",
              "      <td>NaN</td>\n",
              "      <td>NaN</td>\n",
              "      <td>NaN</td>\n",
              "      <td>NaN</td>\n",
              "      <td>NaN</td>\n",
              "      <td>NaN</td>\n",
              "      <td>NaN</td>\n",
              "      <td>NaN</td>\n",
              "      <td>NaN</td>\n",
              "      <td>NaN</td>\n",
              "      <td>NaN</td>\n",
              "      <td>NaN</td>\n",
              "      <td>NaN</td>\n",
              "      <td>NaN</td>\n",
              "      <td>NaN</td>\n",
              "      <td>NaN</td>\n",
              "      <td>NaN</td>\n",
              "      <td>NaN</td>\n",
              "      <td>NaN</td>\n",
              "      <td>NaN</td>\n",
              "      <td>NaN</td>\n",
              "      <td>NaN</td>\n",
              "      <td>NaN</td>\n",
              "      <td>NaN</td>\n",
              "      <td>NaN</td>\n",
              "      <td>NaN</td>\n",
              "      <td>NaN</td>\n",
              "      <td>NaN</td>\n",
              "      <td>NaN</td>\n",
              "      <td>NaN</td>\n",
              "      <td>NaN</td>\n",
              "      <td>NaN</td>\n",
              "      <td>NaN</td>\n",
              "      <td>NaN</td>\n",
              "      <td>NaN</td>\n",
              "      <td>NaN</td>\n",
              "      <td>NaN</td>\n",
              "      <td>NaN</td>\n",
              "      <td>NaN</td>\n",
              "    </tr>\n",
              "    <tr>\n",
              "      <th>2</th>\n",
              "      <td>860</td>\n",
              "      <td>35-39</td>\n",
              "      <td>Man</td>\n",
              "      <td>Argentina</td>\n",
              "      <td>Bachelor’s degree</td>\n",
              "      <td>Software Engineer</td>\n",
              "      <td>10-20 years</td>\n",
              "      <td>NaN</td>\n",
              "      <td>NaN</td>\n",
              "      <td>NaN</td>\n",
              "      <td>NaN</td>\n",
              "      <td>NaN</td>\n",
              "      <td>Java</td>\n",
              "      <td>Javascript</td>\n",
              "      <td>NaN</td>\n",
              "      <td>NaN</td>\n",
              "      <td>Bash</td>\n",
              "      <td>NaN</td>\n",
              "      <td>NaN</td>\n",
              "      <td>NaN</td>\n",
              "      <td>R</td>\n",
              "      <td>NaN</td>\n",
              "      <td>NaN</td>\n",
              "      <td>NaN</td>\n",
              "      <td>Visual Studio Code (VSCode)</td>\n",
              "      <td>NaN</td>\n",
              "      <td>NaN</td>\n",
              "      <td>Notepad++</td>\n",
              "      <td>Sublime Text</td>\n",
              "      <td>Vim / Emacs</td>\n",
              "      <td>NaN</td>\n",
              "      <td>NaN</td>\n",
              "      <td>NaN</td>\n",
              "      <td>NaN</td>\n",
              "      <td>NaN</td>\n",
              "      <td>NaN</td>\n",
              "      <td>NaN</td>\n",
              "      <td>NaN</td>\n",
              "      <td>NaN</td>\n",
              "      <td>NaN</td>\n",
              "      <td>...</td>\n",
              "      <td>NaN</td>\n",
              "      <td>NaN</td>\n",
              "      <td>NaN</td>\n",
              "      <td>NaN</td>\n",
              "      <td>NaN</td>\n",
              "      <td>NaN</td>\n",
              "      <td>NaN</td>\n",
              "      <td>None</td>\n",
              "      <td>NaN</td>\n",
              "      <td>NaN</td>\n",
              "      <td>NaN</td>\n",
              "      <td>NaN</td>\n",
              "      <td>NaN</td>\n",
              "      <td>NaN</td>\n",
              "      <td>NaN</td>\n",
              "      <td>None</td>\n",
              "      <td>NaN</td>\n",
              "      <td>NaN</td>\n",
              "      <td>NaN</td>\n",
              "      <td>NaN</td>\n",
              "      <td>NaN</td>\n",
              "      <td>NaN</td>\n",
              "      <td>NaN</td>\n",
              "      <td>NaN</td>\n",
              "      <td>NaN</td>\n",
              "      <td>NaN</td>\n",
              "      <td>NaN</td>\n",
              "      <td>NaN</td>\n",
              "      <td>NaN</td>\n",
              "      <td>NaN</td>\n",
              "      <td>NaN</td>\n",
              "      <td>NaN</td>\n",
              "      <td>NaN</td>\n",
              "      <td>NaN</td>\n",
              "      <td>NaN</td>\n",
              "      <td>NaN</td>\n",
              "      <td>NaN</td>\n",
              "      <td>NaN</td>\n",
              "      <td>None</td>\n",
              "      <td>NaN</td>\n",
              "    </tr>\n",
              "    <tr>\n",
              "      <th>3</th>\n",
              "      <td>507</td>\n",
              "      <td>30-34</td>\n",
              "      <td>Man</td>\n",
              "      <td>United States of America</td>\n",
              "      <td>Master’s degree</td>\n",
              "      <td>Data Scientist</td>\n",
              "      <td>5-10 years</td>\n",
              "      <td>Python</td>\n",
              "      <td>NaN</td>\n",
              "      <td>SQL</td>\n",
              "      <td>NaN</td>\n",
              "      <td>NaN</td>\n",
              "      <td>NaN</td>\n",
              "      <td>NaN</td>\n",
              "      <td>NaN</td>\n",
              "      <td>NaN</td>\n",
              "      <td>Bash</td>\n",
              "      <td>NaN</td>\n",
              "      <td>NaN</td>\n",
              "      <td>NaN</td>\n",
              "      <td>Python</td>\n",
              "      <td>NaN</td>\n",
              "      <td>NaN</td>\n",
              "      <td>NaN</td>\n",
              "      <td>NaN</td>\n",
              "      <td>PyCharm</td>\n",
              "      <td>NaN</td>\n",
              "      <td>NaN</td>\n",
              "      <td>NaN</td>\n",
              "      <td>NaN</td>\n",
              "      <td>NaN</td>\n",
              "      <td>NaN</td>\n",
              "      <td>NaN</td>\n",
              "      <td>NaN</td>\n",
              "      <td>NaN</td>\n",
              "      <td>NaN</td>\n",
              "      <td>NaN</td>\n",
              "      <td>NaN</td>\n",
              "      <td>NaN</td>\n",
              "      <td>NaN</td>\n",
              "      <td>...</td>\n",
              "      <td>NaN</td>\n",
              "      <td>NaN</td>\n",
              "      <td>NaN</td>\n",
              "      <td>NaN</td>\n",
              "      <td>NaN</td>\n",
              "      <td>NaN</td>\n",
              "      <td>NaN</td>\n",
              "      <td>NaN</td>\n",
              "      <td>NaN</td>\n",
              "      <td>NaN</td>\n",
              "      <td>NaN</td>\n",
              "      <td>NaN</td>\n",
              "      <td>NaN</td>\n",
              "      <td>NaN</td>\n",
              "      <td>NaN</td>\n",
              "      <td>NaN</td>\n",
              "      <td>NaN</td>\n",
              "      <td>NaN</td>\n",
              "      <td>NaN</td>\n",
              "      <td>NaN</td>\n",
              "      <td>NaN</td>\n",
              "      <td>NaN</td>\n",
              "      <td>NaN</td>\n",
              "      <td>NaN</td>\n",
              "      <td>NaN</td>\n",
              "      <td>NaN</td>\n",
              "      <td>NaN</td>\n",
              "      <td>NaN</td>\n",
              "      <td>NaN</td>\n",
              "      <td>NaN</td>\n",
              "      <td>NaN</td>\n",
              "      <td>NaN</td>\n",
              "      <td>NaN</td>\n",
              "      <td>NaN</td>\n",
              "      <td>NaN</td>\n",
              "      <td>NaN</td>\n",
              "      <td>NaN</td>\n",
              "      <td>NaN</td>\n",
              "      <td>NaN</td>\n",
              "      <td>NaN</td>\n",
              "    </tr>\n",
              "    <tr>\n",
              "      <th>8</th>\n",
              "      <td>762</td>\n",
              "      <td>35-39</td>\n",
              "      <td>Man</td>\n",
              "      <td>Germany</td>\n",
              "      <td>Doctoral degree</td>\n",
              "      <td>Data Scientist</td>\n",
              "      <td>5-10 years</td>\n",
              "      <td>Python</td>\n",
              "      <td>NaN</td>\n",
              "      <td>SQL</td>\n",
              "      <td>NaN</td>\n",
              "      <td>NaN</td>\n",
              "      <td>NaN</td>\n",
              "      <td>NaN</td>\n",
              "      <td>NaN</td>\n",
              "      <td>NaN</td>\n",
              "      <td>Bash</td>\n",
              "      <td>NaN</td>\n",
              "      <td>NaN</td>\n",
              "      <td>NaN</td>\n",
              "      <td>Python</td>\n",
              "      <td>Jupyter (JupyterLab, Jupyter Notebooks, etc)</td>\n",
              "      <td>NaN</td>\n",
              "      <td>NaN</td>\n",
              "      <td>NaN</td>\n",
              "      <td>PyCharm</td>\n",
              "      <td>NaN</td>\n",
              "      <td>NaN</td>\n",
              "      <td>Sublime Text</td>\n",
              "      <td>Vim / Emacs</td>\n",
              "      <td>NaN</td>\n",
              "      <td>NaN</td>\n",
              "      <td>NaN</td>\n",
              "      <td>Kaggle Notebooks</td>\n",
              "      <td>Colab Notebooks</td>\n",
              "      <td>NaN</td>\n",
              "      <td>NaN</td>\n",
              "      <td>NaN</td>\n",
              "      <td>NaN</td>\n",
              "      <td>NaN</td>\n",
              "      <td>...</td>\n",
              "      <td>NaN</td>\n",
              "      <td>NaN</td>\n",
              "      <td>NaN</td>\n",
              "      <td>NaN</td>\n",
              "      <td>NaN</td>\n",
              "      <td>NaN</td>\n",
              "      <td>NaN</td>\n",
              "      <td>NaN</td>\n",
              "      <td>NaN</td>\n",
              "      <td>NaN</td>\n",
              "      <td>NaN</td>\n",
              "      <td>NaN</td>\n",
              "      <td>NaN</td>\n",
              "      <td>NaN</td>\n",
              "      <td>NaN</td>\n",
              "      <td>NaN</td>\n",
              "      <td>NaN</td>\n",
              "      <td>NaN</td>\n",
              "      <td>NaN</td>\n",
              "      <td>NaN</td>\n",
              "      <td>NaN</td>\n",
              "      <td>NaN</td>\n",
              "      <td>NaN</td>\n",
              "      <td>NaN</td>\n",
              "      <td>NaN</td>\n",
              "      <td>NaN</td>\n",
              "      <td>NaN</td>\n",
              "      <td>NaN</td>\n",
              "      <td>NaN</td>\n",
              "      <td>NaN</td>\n",
              "      <td>NaN</td>\n",
              "      <td>NaN</td>\n",
              "      <td>NaN</td>\n",
              "      <td>NaN</td>\n",
              "      <td>NaN</td>\n",
              "      <td>NaN</td>\n",
              "      <td>NaN</td>\n",
              "      <td>NaN</td>\n",
              "      <td>NaN</td>\n",
              "      <td>NaN</td>\n",
              "    </tr>\n",
              "    <tr>\n",
              "      <th>11</th>\n",
              "      <td>742</td>\n",
              "      <td>35-39</td>\n",
              "      <td>Man</td>\n",
              "      <td>United States of America</td>\n",
              "      <td>Doctoral degree</td>\n",
              "      <td>Research Scientist</td>\n",
              "      <td>1-2 years</td>\n",
              "      <td>NaN</td>\n",
              "      <td>R</td>\n",
              "      <td>NaN</td>\n",
              "      <td>NaN</td>\n",
              "      <td>NaN</td>\n",
              "      <td>NaN</td>\n",
              "      <td>NaN</td>\n",
              "      <td>NaN</td>\n",
              "      <td>NaN</td>\n",
              "      <td>NaN</td>\n",
              "      <td>NaN</td>\n",
              "      <td>NaN</td>\n",
              "      <td>NaN</td>\n",
              "      <td>R</td>\n",
              "      <td>NaN</td>\n",
              "      <td>RStudio</td>\n",
              "      <td>NaN</td>\n",
              "      <td>NaN</td>\n",
              "      <td>NaN</td>\n",
              "      <td>NaN</td>\n",
              "      <td>NaN</td>\n",
              "      <td>NaN</td>\n",
              "      <td>NaN</td>\n",
              "      <td>NaN</td>\n",
              "      <td>NaN</td>\n",
              "      <td>NaN</td>\n",
              "      <td>NaN</td>\n",
              "      <td>NaN</td>\n",
              "      <td>NaN</td>\n",
              "      <td>NaN</td>\n",
              "      <td>NaN</td>\n",
              "      <td>NaN</td>\n",
              "      <td>NaN</td>\n",
              "      <td>...</td>\n",
              "      <td>NaN</td>\n",
              "      <td>NaN</td>\n",
              "      <td>NaN</td>\n",
              "      <td>NaN</td>\n",
              "      <td>NaN</td>\n",
              "      <td>NaN</td>\n",
              "      <td>NaN</td>\n",
              "      <td>NaN</td>\n",
              "      <td>NaN</td>\n",
              "      <td>NaN</td>\n",
              "      <td>NaN</td>\n",
              "      <td>NaN</td>\n",
              "      <td>NaN</td>\n",
              "      <td>NaN</td>\n",
              "      <td>NaN</td>\n",
              "      <td>NaN</td>\n",
              "      <td>NaN</td>\n",
              "      <td>NaN</td>\n",
              "      <td>NaN</td>\n",
              "      <td>NaN</td>\n",
              "      <td>NaN</td>\n",
              "      <td>NaN</td>\n",
              "      <td>NaN</td>\n",
              "      <td>NaN</td>\n",
              "      <td>NaN</td>\n",
              "      <td>NaN</td>\n",
              "      <td>NaN</td>\n",
              "      <td>NaN</td>\n",
              "      <td>NaN</td>\n",
              "      <td>NaN</td>\n",
              "      <td>NaN</td>\n",
              "      <td>NaN</td>\n",
              "      <td>NaN</td>\n",
              "      <td>NaN</td>\n",
              "      <td>NaN</td>\n",
              "      <td>NaN</td>\n",
              "      <td>NaN</td>\n",
              "      <td>NaN</td>\n",
              "      <td>NaN</td>\n",
              "      <td>NaN</td>\n",
              "    </tr>\n",
              "  </tbody>\n",
              "</table>\n",
              "<p>5 rows × 355 columns</p>\n",
              "</div>"
            ],
            "text/plain": [
              "    Time from Start to Finish (seconds)     Q1  ... Q35_B_Part_10 Q35_B_OTHER\n",
              "1                                289287  30-34  ...           NaN         NaN\n",
              "2                                   860  35-39  ...          None         NaN\n",
              "3                                   507  30-34  ...           NaN         NaN\n",
              "8                                   762  35-39  ...           NaN         NaN\n",
              "11                                  742  35-39  ...           NaN         NaN\n",
              "\n",
              "[5 rows x 355 columns]"
            ]
          },
          "metadata": {},
          "execution_count": 77
        }
      ]
    },
    {
      "cell_type": "markdown",
      "metadata": {
        "id": "A_7EEhbootR_"
      },
      "source": [
        "# **Problem 1:**"
      ]
    },
    {
      "cell_type": "code",
      "metadata": {
        "colab": {
          "base_uri": "https://localhost:8080/",
          "height": 417
        },
        "id": "R0hiAlXZVd8E",
        "outputId": "164e93e1-15d6-47ff-bef9-3bf40ba7ba2e"
      },
      "source": [
        "#Select the relevent columns of the data and form a new dataframe. Rename the column of the new dataframe. \n",
        "df_temp = df.iloc[:, 1:7]\n",
        "df_temp['Q24'] = df['Q24']\n",
        "df_temp.columns = [ 'Age', 'Gender', 'Country', 'Education','Profession','Year of experience', 'Salary']\n",
        "df_temp\n"
      ],
      "execution_count": 78,
      "outputs": [
        {
          "output_type": "execute_result",
          "data": {
            "text/html": [
              "<div>\n",
              "<style scoped>\n",
              "    .dataframe tbody tr th:only-of-type {\n",
              "        vertical-align: middle;\n",
              "    }\n",
              "\n",
              "    .dataframe tbody tr th {\n",
              "        vertical-align: top;\n",
              "    }\n",
              "\n",
              "    .dataframe thead th {\n",
              "        text-align: right;\n",
              "    }\n",
              "</style>\n",
              "<table border=\"1\" class=\"dataframe\">\n",
              "  <thead>\n",
              "    <tr style=\"text-align: right;\">\n",
              "      <th></th>\n",
              "      <th>Age</th>\n",
              "      <th>Gender</th>\n",
              "      <th>Country</th>\n",
              "      <th>Education</th>\n",
              "      <th>Profession</th>\n",
              "      <th>Year of experience</th>\n",
              "      <th>Salary</th>\n",
              "    </tr>\n",
              "  </thead>\n",
              "  <tbody>\n",
              "    <tr>\n",
              "      <th>1</th>\n",
              "      <td>30-34</td>\n",
              "      <td>Man</td>\n",
              "      <td>United States of America</td>\n",
              "      <td>Master’s degree</td>\n",
              "      <td>Data Engineer</td>\n",
              "      <td>5-10 years</td>\n",
              "      <td>125000</td>\n",
              "    </tr>\n",
              "    <tr>\n",
              "      <th>2</th>\n",
              "      <td>35-39</td>\n",
              "      <td>Man</td>\n",
              "      <td>Argentina</td>\n",
              "      <td>Bachelor’s degree</td>\n",
              "      <td>Software Engineer</td>\n",
              "      <td>10-20 years</td>\n",
              "      <td>20000</td>\n",
              "    </tr>\n",
              "    <tr>\n",
              "      <th>3</th>\n",
              "      <td>30-34</td>\n",
              "      <td>Man</td>\n",
              "      <td>United States of America</td>\n",
              "      <td>Master’s degree</td>\n",
              "      <td>Data Scientist</td>\n",
              "      <td>5-10 years</td>\n",
              "      <td>150000</td>\n",
              "    </tr>\n",
              "    <tr>\n",
              "      <th>8</th>\n",
              "      <td>35-39</td>\n",
              "      <td>Man</td>\n",
              "      <td>Germany</td>\n",
              "      <td>Doctoral degree</td>\n",
              "      <td>Data Scientist</td>\n",
              "      <td>5-10 years</td>\n",
              "      <td>80000</td>\n",
              "    </tr>\n",
              "    <tr>\n",
              "      <th>11</th>\n",
              "      <td>35-39</td>\n",
              "      <td>Man</td>\n",
              "      <td>United States of America</td>\n",
              "      <td>Doctoral degree</td>\n",
              "      <td>Research Scientist</td>\n",
              "      <td>1-2 years</td>\n",
              "      <td>40000</td>\n",
              "    </tr>\n",
              "    <tr>\n",
              "      <th>...</th>\n",
              "      <td>...</td>\n",
              "      <td>...</td>\n",
              "      <td>...</td>\n",
              "      <td>...</td>\n",
              "      <td>...</td>\n",
              "      <td>...</td>\n",
              "      <td>...</td>\n",
              "    </tr>\n",
              "    <tr>\n",
              "      <th>20024</th>\n",
              "      <td>35-39</td>\n",
              "      <td>Man</td>\n",
              "      <td>Malaysia</td>\n",
              "      <td>I prefer not to answer</td>\n",
              "      <td>Machine Learning Engineer</td>\n",
              "      <td>1-2 years</td>\n",
              "      <td>3000</td>\n",
              "    </tr>\n",
              "    <tr>\n",
              "      <th>20029</th>\n",
              "      <td>35-39</td>\n",
              "      <td>Man</td>\n",
              "      <td>Thailand</td>\n",
              "      <td>Bachelor’s degree</td>\n",
              "      <td>Other</td>\n",
              "      <td>10-20 years</td>\n",
              "      <td>20000</td>\n",
              "    </tr>\n",
              "    <tr>\n",
              "      <th>20033</th>\n",
              "      <td>30-34</td>\n",
              "      <td>Man</td>\n",
              "      <td>Brazil</td>\n",
              "      <td>Master’s degree</td>\n",
              "      <td>Research Scientist</td>\n",
              "      <td>&lt; 1 years</td>\n",
              "      <td>1000</td>\n",
              "    </tr>\n",
              "    <tr>\n",
              "      <th>20034</th>\n",
              "      <td>22-24</td>\n",
              "      <td>Man</td>\n",
              "      <td>India</td>\n",
              "      <td>Bachelor’s degree</td>\n",
              "      <td>Software Engineer</td>\n",
              "      <td>3-5 years</td>\n",
              "      <td>1000</td>\n",
              "    </tr>\n",
              "    <tr>\n",
              "      <th>20035</th>\n",
              "      <td>22-24</td>\n",
              "      <td>Man</td>\n",
              "      <td>Pakistan</td>\n",
              "      <td>Master’s degree</td>\n",
              "      <td>Machine Learning Engineer</td>\n",
              "      <td>&lt; 1 years</td>\n",
              "      <td>1000</td>\n",
              "    </tr>\n",
              "  </tbody>\n",
              "</table>\n",
              "<p>10729 rows × 7 columns</p>\n",
              "</div>"
            ],
            "text/plain": [
              "         Age Gender  ... Year of experience  Salary\n",
              "1      30-34    Man  ...         5-10 years  125000\n",
              "2      35-39    Man  ...        10-20 years   20000\n",
              "3      30-34    Man  ...         5-10 years  150000\n",
              "8      35-39    Man  ...         5-10 years   80000\n",
              "11     35-39    Man  ...          1-2 years   40000\n",
              "...      ...    ...  ...                ...     ...\n",
              "20024  35-39    Man  ...          1-2 years    3000\n",
              "20029  35-39    Man  ...        10-20 years   20000\n",
              "20033  30-34    Man  ...          < 1 years    1000\n",
              "20034  22-24    Man  ...          3-5 years    1000\n",
              "20035  22-24    Man  ...          < 1 years    1000\n",
              "\n",
              "[10729 rows x 7 columns]"
            ]
          },
          "metadata": {},
          "execution_count": 78
        }
      ]
    },
    {
      "cell_type": "code",
      "metadata": {
        "colab": {
          "base_uri": "https://localhost:8080/"
        },
        "id": "TUaKNXAcf44F",
        "outputId": "c4b110fe-b74d-4f73-b1d3-1ab661d7cbc0"
      },
      "source": [
        "df_temp.isnull().sum()#Check the number of null item in the data. "
      ],
      "execution_count": 79,
      "outputs": [
        {
          "output_type": "execute_result",
          "data": {
            "text/plain": [
              "Age                   0\n",
              "Gender                0\n",
              "Country               0\n",
              "Education             0\n",
              "Profession            0\n",
              "Year of experience    0\n",
              "Salary                0\n",
              "dtype: int64"
            ]
          },
          "metadata": {},
          "execution_count": 79
        }
      ]
    },
    {
      "cell_type": "markdown",
      "metadata": {
        "id": "MI01pGDmaCJc"
      },
      "source": [
        "## Problem 1:\n",
        "\n",
        "**Plot 1: Salary VS Education Level** \n",
        "\n",
        "In this part a bar chart is plotted for the average salary corresponding to each educational level. The rows of \"I prefer not to answer\" is dropped for this part, because it does not provide any resonable information. The table and the summary of the description of the dataset are shown below."
      ]
    },
    {
      "cell_type": "code",
      "metadata": {
        "colab": {
          "base_uri": "https://localhost:8080/",
          "height": 234
        },
        "id": "lcI4BrbRSuzC",
        "outputId": "9f80232b-958a-4e2c-edfe-295d251a9d9d"
      },
      "source": [
        "#group the new dataframe by education level and calculate the corresponding average salary of each education level. Store the result into a new dataframe Edu_Salary\n",
        "Edu_Salary = df_temp.groupby(['Education']).mean()\n",
        "Edu_Salary = Edu_Salary.drop(['I prefer not to answer'])\n",
        "\n",
        "#Add a new index column to the dataframe \n",
        "Edu_Salary['new_col'] = range(1, len(Edu_Salary) + 1)\n",
        "Edu_Salary = Edu_Salary.reset_index()\n",
        "Edu_Salary.drop(columns=['new_col'])"
      ],
      "execution_count": 80,
      "outputs": [
        {
          "output_type": "execute_result",
          "data": {
            "text/html": [
              "<div>\n",
              "<style scoped>\n",
              "    .dataframe tbody tr th:only-of-type {\n",
              "        vertical-align: middle;\n",
              "    }\n",
              "\n",
              "    .dataframe tbody tr th {\n",
              "        vertical-align: top;\n",
              "    }\n",
              "\n",
              "    .dataframe thead th {\n",
              "        text-align: right;\n",
              "    }\n",
              "</style>\n",
              "<table border=\"1\" class=\"dataframe\">\n",
              "  <thead>\n",
              "    <tr style=\"text-align: right;\">\n",
              "      <th></th>\n",
              "      <th>Education</th>\n",
              "      <th>Salary</th>\n",
              "    </tr>\n",
              "  </thead>\n",
              "  <tbody>\n",
              "    <tr>\n",
              "      <th>0</th>\n",
              "      <td>Bachelor’s degree</td>\n",
              "      <td>35732.824427</td>\n",
              "    </tr>\n",
              "    <tr>\n",
              "      <th>1</th>\n",
              "      <td>Doctoral degree</td>\n",
              "      <td>68719.441211</td>\n",
              "    </tr>\n",
              "    <tr>\n",
              "      <th>2</th>\n",
              "      <td>Master’s degree</td>\n",
              "      <td>52120.106579</td>\n",
              "    </tr>\n",
              "    <tr>\n",
              "      <th>3</th>\n",
              "      <td>No formal education past high school</td>\n",
              "      <td>31853.773585</td>\n",
              "    </tr>\n",
              "    <tr>\n",
              "      <th>4</th>\n",
              "      <td>Professional degree</td>\n",
              "      <td>41892.553191</td>\n",
              "    </tr>\n",
              "    <tr>\n",
              "      <th>5</th>\n",
              "      <td>Some college/university study without earning ...</td>\n",
              "      <td>40407.792208</td>\n",
              "    </tr>\n",
              "  </tbody>\n",
              "</table>\n",
              "</div>"
            ],
            "text/plain": [
              "                                           Education        Salary\n",
              "0                                  Bachelor’s degree  35732.824427\n",
              "1                                    Doctoral degree  68719.441211\n",
              "2                                    Master’s degree  52120.106579\n",
              "3               No formal education past high school  31853.773585\n",
              "4                                Professional degree  41892.553191\n",
              "5  Some college/university study without earning ...  40407.792208"
            ]
          },
          "metadata": {},
          "execution_count": 80
        }
      ]
    },
    {
      "cell_type": "code",
      "metadata": {
        "colab": {
          "base_uri": "https://localhost:8080/",
          "height": 358
        },
        "id": "Q6WfFGQTiPw7",
        "outputId": "73a7621d-8525-4320-8157-c7244bcf11c4"
      },
      "source": [
        "#Plot the bar chart of the Average Annual Salary VS Education Level \n",
        "labels = ['Bachelor', 'Doctoral', 'Master','High School', 'Professional', 'College without Bachelor']\n",
        "plt.figure(figsize=(12,5))\n",
        "plt.bar(labels,Edu_Salary['Salary'],width = 0.3)\n",
        "plt.title('Figure 1-1: Average Annual Salary VS Education Level',fontsize=15)\n",
        "plt.xlabel('Education')\n",
        "plt.ylabel('Salary') \n",
        "plt.show()"
      ],
      "execution_count": 81,
      "outputs": [
        {
          "output_type": "display_data",
          "data": {
            "image/png": "[encoded data removed]",
            "text/plain": [
              "<Figure size 864x360 with 1 Axes>"
            ]
          },
          "metadata": {
            "needs_background": "light"
          }
        }
      ]
    },
    {
      "cell_type": "markdown",
      "metadata": {
        "id": "LoxIGUASxET9"
      },
      "source": [
        "From the plot of Average Annual Salary Vs Education Level, we can see that the salary is positively correlated with the education level in general. However, higher education may not result in higher salary. For example, the average annual salary (40407) of people from some college without earning the bachelor degree is a little bit higher than the average annual salary (35732) of people who has bachelor degree. This could be caused by some other factors: Years of Experience, Gender and position type. Thus, we will study some other features and relationships in the following sections. \n"
      ]
    },
    {
      "cell_type": "markdown",
      "metadata": {
        "id": "LNAYbmpQjNNw"
      },
      "source": [
        "## Problem 1:\n",
        "\n",
        "**Plot 2: Percentage of each position and Number of Men and Women for each Position** \n",
        "\n",
        "In this part, we will first plot the pie chart of the percentage of each postion to see which position has the most people. Then, we will plot the distribution of men and women of each position. According to the object of this assignment, we want to study the nautre of women's representation in Data Science and Machine Learning. We only compare the data of men and women in this part. "
      ]
    },
    {
      "cell_type": "code",
      "metadata": {
        "colab": {
          "base_uri": "https://localhost:8080/",
          "height": 405
        },
        "id": "-7xkrGVtjM1A",
        "outputId": "cc56b8f8-f8e0-40b6-f143-a205e58d6649"
      },
      "source": [
        "#Count the total number of people in each position\n",
        "Prof = df_temp['Profession'].value_counts()\n",
        "Prof = Prof.to_frame()\n",
        "display(Prof)\n",
        "type(Prof)\n"
      ],
      "execution_count": 82,
      "outputs": [
        {
          "output_type": "display_data",
          "data": {
            "text/html": [
              "<div>\n",
              "<style scoped>\n",
              "    .dataframe tbody tr th:only-of-type {\n",
              "        vertical-align: middle;\n",
              "    }\n",
              "\n",
              "    .dataframe tbody tr th {\n",
              "        vertical-align: top;\n",
              "    }\n",
              "\n",
              "    .dataframe thead th {\n",
              "        text-align: right;\n",
              "    }\n",
              "</style>\n",
              "<table border=\"1\" class=\"dataframe\">\n",
              "  <thead>\n",
              "    <tr style=\"text-align: right;\">\n",
              "      <th></th>\n",
              "      <th>Profession</th>\n",
              "    </tr>\n",
              "  </thead>\n",
              "  <tbody>\n",
              "    <tr>\n",
              "      <th>Data Scientist</th>\n",
              "      <td>2398</td>\n",
              "    </tr>\n",
              "    <tr>\n",
              "      <th>Software Engineer</th>\n",
              "      <td>1620</td>\n",
              "    </tr>\n",
              "    <tr>\n",
              "      <th>Other</th>\n",
              "      <td>1508</td>\n",
              "    </tr>\n",
              "    <tr>\n",
              "      <th>Data Analyst</th>\n",
              "      <td>1260</td>\n",
              "    </tr>\n",
              "    <tr>\n",
              "      <th>Research Scientist</th>\n",
              "      <td>1028</td>\n",
              "    </tr>\n",
              "    <tr>\n",
              "      <th>Machine Learning Engineer</th>\n",
              "      <td>918</td>\n",
              "    </tr>\n",
              "    <tr>\n",
              "      <th>Business Analyst</th>\n",
              "      <td>678</td>\n",
              "    </tr>\n",
              "    <tr>\n",
              "      <th>Product/Project Manager</th>\n",
              "      <td>590</td>\n",
              "    </tr>\n",
              "    <tr>\n",
              "      <th>Data Engineer</th>\n",
              "      <td>369</td>\n",
              "    </tr>\n",
              "    <tr>\n",
              "      <th>Statistician</th>\n",
              "      <td>248</td>\n",
              "    </tr>\n",
              "    <tr>\n",
              "      <th>DBA/Database Engineer</th>\n",
              "      <td>112</td>\n",
              "    </tr>\n",
              "  </tbody>\n",
              "</table>\n",
              "</div>"
            ],
            "text/plain": [
              "                           Profession\n",
              "Data Scientist                   2398\n",
              "Software Engineer                1620\n",
              "Other                            1508\n",
              "Data Analyst                     1260\n",
              "Research Scientist               1028\n",
              "Machine Learning Engineer         918\n",
              "Business Analyst                  678\n",
              "Product/Project Manager           590\n",
              "Data Engineer                     369\n",
              "Statistician                      248\n",
              "DBA/Database Engineer             112"
            ]
          },
          "metadata": {}
        },
        {
          "output_type": "execute_result",
          "data": {
            "text/plain": [
              "pandas.core.frame.DataFrame"
            ]
          },
          "metadata": {},
          "execution_count": 82
        }
      ]
    },
    {
      "cell_type": "code",
      "metadata": {
        "colab": {
          "base_uri": "https://localhost:8080/"
        },
        "id": "x7hcCBCXnCbn",
        "outputId": "1dd2e50e-ef85-465b-ccd2-2fecec41430f"
      },
      "source": [
        "#obtain the label of the pie chart\n",
        "label = Prof.index\n",
        "label"
      ],
      "execution_count": 83,
      "outputs": [
        {
          "output_type": "execute_result",
          "data": {
            "text/plain": [
              "Index(['Data Scientist', 'Software Engineer', 'Other', 'Data Analyst',\n",
              "       'Research Scientist', 'Machine Learning Engineer', 'Business Analyst',\n",
              "       'Product/Project Manager', 'Data Engineer', 'Statistician',\n",
              "       'DBA/Database Engineer'],\n",
              "      dtype='object')"
            ]
          },
          "metadata": {},
          "execution_count": 83
        }
      ]
    },
    {
      "cell_type": "code",
      "metadata": {
        "colab": {
          "base_uri": "https://localhost:8080/",
          "height": 754
        },
        "id": "r16fgdpOmYHs",
        "outputId": "7e50104c-88bd-4dae-cd62-c1e58047ec58"
      },
      "source": [
        "#plot the percentage of each position\n",
        "plt.figure(figsize=(12,12))\n",
        "plt.pie(Prof,labels = label, autopct='%1.1f%%')\n",
        "plt.rcParams['font.size'] = 12\n",
        "plt.title('Figure 1-2a: Distribution of different Profession', fontsize = 15)\n",
        "plt.show() \n"
      ],
      "execution_count": 84,
      "outputs": [
        {
          "output_type": "stream",
          "name": "stderr",
          "text": [
            "/usr/local/lib/python3.7/dist-packages/ipykernel_launcher.py:3: MatplotlibDeprecationWarning: Non-1D inputs to pie() are currently squeeze()d, but this behavior is deprecated since 3.1 and will be removed in 3.3; pass a 1D array instead.\n",
            "  This is separate from the ipykernel package so we can avoid doing imports until\n"
          ]
        },
        {
          "output_type": "display_data",
          "data": {
            "image/png": "[encoded data removed]",
            "text/plain": [
              "<Figure size 864x864 with 1 Axes>"
            ]
          },
          "metadata": {}
        }
      ]
    },
    {
      "cell_type": "markdown",
      "metadata": {
        "id": "_j8z7Ayeyvdb"
      },
      "source": [
        "From the table and the pie plot above, the data scientist takes the most percentage (22.4%) amoung all the jobs. DBA/Database Engineer has the least amount of people (1.0%). Exclude \"other jobs\", Data Scientist, Softeare Engineer and Data Analyst are the top 3 jobs with most people. In the next section, we will study the distribution of men and women amoung all the positions. For this assignment, we focus on the trend of men and women, so we only take the data of men and women in the following sections. "
      ]
    },
    {
      "cell_type": "code",
      "metadata": {
        "colab": {
          "base_uri": "https://localhost:8080/",
          "height": 50
        },
        "id": "7jn1LGYr_VbD",
        "outputId": "6f4ed12e-be7a-4b28-caaa-35470b89ccb9"
      },
      "source": [
        "#Check the different items in the gender column\n",
        "display(df_temp['Gender'].unique())\n"
      ],
      "execution_count": 85,
      "outputs": [
        {
          "output_type": "display_data",
          "data": {
            "text/plain": [
              "array(['Man', 'Woman', 'Nonbinary', 'Prefer not to say',\n",
              "       'Prefer to self-describe'], dtype=object)"
            ]
          },
          "metadata": {}
        }
      ]
    },
    {
      "cell_type": "code",
      "metadata": {
        "colab": {
          "base_uri": "https://localhost:8080/",
          "height": 454
        },
        "id": "sCFggP-XsIyw",
        "outputId": "edb33cbc-38f4-4361-c332-73e37f871df7"
      },
      "source": [
        "#only take the data of man and woman, because we want to study the nature of women's representation \n",
        "Profession_male = df_temp['Profession'][df_temp['Gender'] == \"Man\"].value_counts().sort_index()\n",
        "print('The distribution of men of aall positions:')\n",
        "display(Profession_male)\n",
        "Profession_female = df_temp['Profession'][df_temp['Gender'] == \"Woman\"].value_counts().sort_index()\n",
        "print('The distribution of women of aall positions:')\n",
        "display(Profession_female)\n"
      ],
      "execution_count": 86,
      "outputs": [
        {
          "output_type": "stream",
          "name": "stdout",
          "text": [
            "The distribution of men of aall positions:\n"
          ]
        },
        {
          "output_type": "display_data",
          "data": {
            "text/plain": [
              "Business Analyst              544\n",
              "DBA/Database Engineer          94\n",
              "Data Analyst                  965\n",
              "Data Engineer                 316\n",
              "Data Scientist               2002\n",
              "Machine Learning Engineer     800\n",
              "Other                        1244\n",
              "Product/Project Manager       518\n",
              "Research Scientist            808\n",
              "Software Engineer            1391\n",
              "Statistician                  190\n",
              "Name: Profession, dtype: int64"
            ]
          },
          "metadata": {}
        },
        {
          "output_type": "stream",
          "name": "stdout",
          "text": [
            "The distribution of women of aall positions:\n"
          ]
        },
        {
          "output_type": "display_data",
          "data": {
            "text/plain": [
              "Business Analyst             123\n",
              "DBA/Database Engineer         12\n",
              "Data Analyst                 284\n",
              "Data Engineer                 49\n",
              "Data Scientist               360\n",
              "Machine Learning Engineer    104\n",
              "Other                        242\n",
              "Product/Project Manager       62\n",
              "Research Scientist           191\n",
              "Software Engineer            200\n",
              "Statistician                  56\n",
              "Name: Profession, dtype: int64"
            ]
          },
          "metadata": {}
        }
      ]
    },
    {
      "cell_type": "code",
      "metadata": {
        "colab": {
          "base_uri": "https://localhost:8080/"
        },
        "id": "SxNS6gJkD5Xh",
        "outputId": "33f7519a-e9e1-437a-9ea7-5fdccc088fa5"
      },
      "source": [
        "#Chamge the array into dataframe \n",
        "Profession_female.to_frame()\n",
        "Profession_male.to_frame()\n",
        "#get the label of the plot\n",
        "xlabel = Profession_female.index.to_list()\n",
        "print(\"All the positions: \", xlabel)"
      ],
      "execution_count": 87,
      "outputs": [
        {
          "output_type": "stream",
          "name": "stdout",
          "text": [
            "All the positions:  ['Business Analyst', 'DBA/Database Engineer', 'Data Analyst', 'Data Engineer', 'Data Scientist', 'Machine Learning Engineer', 'Other', 'Product/Project Manager', 'Research Scientist', 'Software Engineer', 'Statistician']\n"
          ]
        }
      ]
    },
    {
      "cell_type": "code",
      "metadata": {
        "colab": {
          "base_uri": "https://localhost:8080/",
          "height": 598
        },
        "id": "izXuvp3dFcyB",
        "outputId": "b3723df9-f45f-4460-8c86-cc17076739cf"
      },
      "source": [
        "#Plot the distribution of Man and Women of each position \n",
        "fig = plt.figure(figsize=(12,6))\n",
        "ax = fig.add_axes([0,0,1,1])\n",
        "x_position = np.arange(len(xlabel))\n",
        "ax.bar(x_position + 0.00, Profession_male,alpha = 0.5,width = 0.25, label = 'male' )\n",
        "ax.bar(x_position + 0.25, Profession_female, alpha = 0.5, width = 0.25, label = 'female' )\n",
        "ax.set_xticks(x_position)\n",
        "ax.set_xticklabels(xlabel , rotation=30, ha='right')\n",
        "ax.legend()\n",
        "ax.set_xlabel('Type of Profession')\n",
        "ax.set_ylabel('Number of People')\n",
        "ax.set_title('Figure 1-2b: Number of Male & Female Workers for all the Jobs', fontsize = 15)\n",
        "plt.show()"
      ],
      "execution_count": 88,
      "outputs": [
        {
          "output_type": "display_data",
          "data": {
            "image/png": "[encoded data removed]",
            "text/plain": [
              "<Figure size 864x432 with 1 Axes>"
            ]
          },
          "metadata": {
            "needs_background": "light"
          }
        }
      ]
    },
    {
      "cell_type": "markdown",
      "metadata": {
        "id": "o5g7tjnS0HpT"
      },
      "source": [
        "From the graph of the Number of Male & Female Workers for all the Jobs, for all the positions, the number of men is much larger than the number of women. Women is minority in the field of data analysis and machine learining. The difference betweeen the number of men amoung different positions is larger than women. The distribution of women is more even, because the total number of population of women is much smaller. "
      ]
    },
    {
      "cell_type": "markdown",
      "metadata": {
        "id": "Rx7mVy5OJhUC"
      },
      "source": [
        "## Problem 1:\n",
        "\n",
        "**Plot 3: Salary VS Years of Experience of Male & Female Workers for all the Jobs** \n",
        "\n",
        "In this part, we will study the relationship between the average salary and the years of experience of men and women. \n"
      ]
    },
    {
      "cell_type": "code",
      "metadata": {
        "colab": {
          "base_uri": "https://localhost:8080/",
          "height": 607
        },
        "id": "vcdxyXg-JffS",
        "outputId": "2e2367cd-b921-4ec5-d9cc-548babb86b00"
      },
      "source": [
        "#Group the data by year of experience and calculate the averge annual salary \n",
        "Experience_Male = df_temp.groupby(['Gender','Year of experience']).mean().loc['Man']\n",
        "Experience_Female = df_temp.groupby(['Gender','Year of experience']).mean().loc['Woman']\n",
        "#Add index column and sort by index\n",
        "Experience_Male['index']= [2,5,6,3,4,1,0]\n",
        "Experience_Male = Experience_Male.sort_values(by='index')\n",
        "Experience_Female['index']= [2,5,6,3,4,1,0]\n",
        "Experience_Female = Experience_Female.sort_values(by='index')\n",
        "#show the table\n",
        "print('The average salary of different years of experience of men:')\n",
        "display(Experience_Male)\n",
        "print('The average salary of different years of experience of men:')\n",
        "display(Experience_Female)\n"
      ],
      "execution_count": 89,
      "outputs": [
        {
          "output_type": "stream",
          "name": "stdout",
          "text": [
            "The average salary of different years of experience of men:\n"
          ]
        },
        {
          "output_type": "display_data",
          "data": {
            "text/html": [
              "<div>\n",
              "<style scoped>\n",
              "    .dataframe tbody tr th:only-of-type {\n",
              "        vertical-align: middle;\n",
              "    }\n",
              "\n",
              "    .dataframe tbody tr th {\n",
              "        vertical-align: top;\n",
              "    }\n",
              "\n",
              "    .dataframe thead th {\n",
              "        text-align: right;\n",
              "    }\n",
              "</style>\n",
              "<table border=\"1\" class=\"dataframe\">\n",
              "  <thead>\n",
              "    <tr style=\"text-align: right;\">\n",
              "      <th></th>\n",
              "      <th>Salary</th>\n",
              "      <th>index</th>\n",
              "    </tr>\n",
              "    <tr>\n",
              "      <th>Year of experience</th>\n",
              "      <th></th>\n",
              "      <th></th>\n",
              "    </tr>\n",
              "  </thead>\n",
              "  <tbody>\n",
              "    <tr>\n",
              "      <th>I have never written code</th>\n",
              "      <td>29207.711443</td>\n",
              "      <td>0</td>\n",
              "    </tr>\n",
              "    <tr>\n",
              "      <th>&lt; 1 years</th>\n",
              "      <td>25887.269193</td>\n",
              "      <td>1</td>\n",
              "    </tr>\n",
              "    <tr>\n",
              "      <th>1-2 years</th>\n",
              "      <td>25994.051553</td>\n",
              "      <td>2</td>\n",
              "    </tr>\n",
              "    <tr>\n",
              "      <th>3-5 years</th>\n",
              "      <td>38461.557664</td>\n",
              "      <td>3</td>\n",
              "    </tr>\n",
              "    <tr>\n",
              "      <th>5-10 years</th>\n",
              "      <td>59185.687264</td>\n",
              "      <td>4</td>\n",
              "    </tr>\n",
              "    <tr>\n",
              "      <th>10-20 years</th>\n",
              "      <td>76934.078643</td>\n",
              "      <td>5</td>\n",
              "    </tr>\n",
              "    <tr>\n",
              "      <th>20+ years</th>\n",
              "      <td>97754.798464</td>\n",
              "      <td>6</td>\n",
              "    </tr>\n",
              "  </tbody>\n",
              "</table>\n",
              "</div>"
            ],
            "text/plain": [
              "                                 Salary  index\n",
              "Year of experience                            \n",
              "I have never written code  29207.711443      0\n",
              "< 1 years                  25887.269193      1\n",
              "1-2 years                  25994.051553      2\n",
              "3-5 years                  38461.557664      3\n",
              "5-10 years                 59185.687264      4\n",
              "10-20 years                76934.078643      5\n",
              "20+ years                  97754.798464      6"
            ]
          },
          "metadata": {}
        },
        {
          "output_type": "stream",
          "name": "stdout",
          "text": [
            "The average salary of different years of experience of men:\n"
          ]
        },
        {
          "output_type": "display_data",
          "data": {
            "text/html": [
              "<div>\n",
              "<style scoped>\n",
              "    .dataframe tbody tr th:only-of-type {\n",
              "        vertical-align: middle;\n",
              "    }\n",
              "\n",
              "    .dataframe tbody tr th {\n",
              "        vertical-align: top;\n",
              "    }\n",
              "\n",
              "    .dataframe thead th {\n",
              "        text-align: right;\n",
              "    }\n",
              "</style>\n",
              "<table border=\"1\" class=\"dataframe\">\n",
              "  <thead>\n",
              "    <tr style=\"text-align: right;\">\n",
              "      <th></th>\n",
              "      <th>Salary</th>\n",
              "      <th>index</th>\n",
              "    </tr>\n",
              "    <tr>\n",
              "      <th>Year of experience</th>\n",
              "      <th></th>\n",
              "      <th></th>\n",
              "    </tr>\n",
              "  </thead>\n",
              "  <tbody>\n",
              "    <tr>\n",
              "      <th>I have never written code</th>\n",
              "      <td>21472.972973</td>\n",
              "      <td>0</td>\n",
              "    </tr>\n",
              "    <tr>\n",
              "      <th>&lt; 1 years</th>\n",
              "      <td>19439.330544</td>\n",
              "      <td>1</td>\n",
              "    </tr>\n",
              "    <tr>\n",
              "      <th>1-2 years</th>\n",
              "      <td>24275.204360</td>\n",
              "      <td>2</td>\n",
              "    </tr>\n",
              "    <tr>\n",
              "      <th>3-5 years</th>\n",
              "      <td>33191.931540</td>\n",
              "      <td>3</td>\n",
              "    </tr>\n",
              "    <tr>\n",
              "      <th>5-10 years</th>\n",
              "      <td>49983.928571</td>\n",
              "      <td>4</td>\n",
              "    </tr>\n",
              "    <tr>\n",
              "      <th>10-20 years</th>\n",
              "      <td>71837.500000</td>\n",
              "      <td>5</td>\n",
              "    </tr>\n",
              "    <tr>\n",
              "      <th>20+ years</th>\n",
              "      <td>68650.000000</td>\n",
              "      <td>6</td>\n",
              "    </tr>\n",
              "  </tbody>\n",
              "</table>\n",
              "</div>"
            ],
            "text/plain": [
              "                                 Salary  index\n",
              "Year of experience                            \n",
              "I have never written code  21472.972973      0\n",
              "< 1 years                  19439.330544      1\n",
              "1-2 years                  24275.204360      2\n",
              "3-5 years                  33191.931540      3\n",
              "5-10 years                 49983.928571      4\n",
              "10-20 years                71837.500000      5\n",
              "20+ years                  68650.000000      6"
            ]
          },
          "metadata": {}
        }
      ]
    },
    {
      "cell_type": "code",
      "metadata": {
        "colab": {
          "base_uri": "https://localhost:8080/",
          "height": 463
        },
        "id": "oFvM6fWyRNH3",
        "outputId": "5721b683-88ff-4750-8705-df7e7b5799d0"
      },
      "source": [
        "#plot the graph of Salary VS Years of Experience\n",
        "fig = plt.figure(figsize=(13,5))\n",
        "ax = fig.add_axes([0,0,1,1])\n",
        "x_position = Experience_Male['index'].to_numpy()\n",
        "display(x_position)# check the position index\n",
        "ax.bar(x_position , Experience_Male['Salary'], color = 'b',alpha = 0.1,width = 0.25, label = 'male' )\n",
        "ax.bar(x_position + 0.25 , Experience_Female['Salary'], color = 'r', alpha = 0.5, width = 0.25, label = 'female')\n",
        "ax.set_xticks(x_position)\n",
        "ax.set_xticklabels(Experience_Male.index )\n",
        "ax.legend()\n",
        "ax.set_xlabel('Years of Experience')\n",
        "ax.set_ylabel('Salary')\n",
        "ax.set_title('Figure 1-3: Salary VS Years of Experience of Male & Female Workers for all the Jobs', fontsize = 15)\n",
        "plt.show()"
      ],
      "execution_count": 90,
      "outputs": [
        {
          "output_type": "display_data",
          "data": {
            "text/plain": [
              "array([0, 1, 2, 3, 4, 5, 6])"
            ]
          },
          "metadata": {}
        },
        {
          "output_type": "display_data",
          "data": {
            "image/png": "[encoded data removed]",
            "text/plain": [
              "<Figure size 936x360 with 1 Axes>"
            ]
          },
          "metadata": {
            "needs_background": "light"
          }
        }
      ]
    },
    {
      "cell_type": "markdown",
      "metadata": {
        "id": "G8FNS3Hz1TNr"
      },
      "source": [
        "According to the plot above, the average annual salary has positive correlation with years of experience in general. There are two interesting findings. The first is that, for women, the averge annual salary of 10-20 years is higher than 20+ years. For both men and women, the salaries of 0-2 years are very close. "
      ]
    },
    {
      "cell_type": "markdown",
      "metadata": {
        "id": "FP14PM5IkntI"
      },
      "source": [
        "# **Problem 2:**\n",
        "\n",
        "\n",
        "In this part, we will sudy the difference between average salary of men versus women. "
      ]
    },
    {
      "cell_type": "markdown",
      "metadata": {
        "id": "lXIoCC0mkvWr"
      },
      "source": [
        "## **Part a**\n",
        "\n",
        "In this section, we will form 2 dataframes for men and women. The summary of the dataframe is shown below."
      ]
    },
    {
      "cell_type": "code",
      "metadata": {
        "colab": {
          "base_uri": "https://localhost:8080/",
          "height": 598
        },
        "id": "60sx608Rku6R",
        "outputId": "495ce4a7-3ba9-4dd3-caf0-0df0a63ccbb8"
      },
      "source": [
        "Gender_sal = df_temp[['Gender','Salary']]\n",
        "display(Gender_sal.head())#show the top 5 rows of the table of geneder and salary\n",
        "print('The number of null values:')\n",
        "print(Gender_sal.isnull().sum())#check the null values\n",
        "print('The summary of the average annual salary of all geneder:')\n",
        "display(Gender_sal.describe())\n",
        "print('Median salary of all gender: ', Gender_sal.median())"
      ],
      "execution_count": 91,
      "outputs": [
        {
          "output_type": "display_data",
          "data": {
            "text/html": [
              "<div>\n",
              "<style scoped>\n",
              "    .dataframe tbody tr th:only-of-type {\n",
              "        vertical-align: middle;\n",
              "    }\n",
              "\n",
              "    .dataframe tbody tr th {\n",
              "        vertical-align: top;\n",
              "    }\n",
              "\n",
              "    .dataframe thead th {\n",
              "        text-align: right;\n",
              "    }\n",
              "</style>\n",
              "<table border=\"1\" class=\"dataframe\">\n",
              "  <thead>\n",
              "    <tr style=\"text-align: right;\">\n",
              "      <th></th>\n",
              "      <th>Gender</th>\n",
              "      <th>Salary</th>\n",
              "    </tr>\n",
              "  </thead>\n",
              "  <tbody>\n",
              "    <tr>\n",
              "      <th>1</th>\n",
              "      <td>Man</td>\n",
              "      <td>125000</td>\n",
              "    </tr>\n",
              "    <tr>\n",
              "      <th>2</th>\n",
              "      <td>Man</td>\n",
              "      <td>20000</td>\n",
              "    </tr>\n",
              "    <tr>\n",
              "      <th>3</th>\n",
              "      <td>Man</td>\n",
              "      <td>150000</td>\n",
              "    </tr>\n",
              "    <tr>\n",
              "      <th>8</th>\n",
              "      <td>Man</td>\n",
              "      <td>80000</td>\n",
              "    </tr>\n",
              "    <tr>\n",
              "      <th>11</th>\n",
              "      <td>Man</td>\n",
              "      <td>40000</td>\n",
              "    </tr>\n",
              "  </tbody>\n",
              "</table>\n",
              "</div>"
            ],
            "text/plain": [
              "   Gender  Salary\n",
              "1     Man  125000\n",
              "2     Man   20000\n",
              "3     Man  150000\n",
              "8     Man   80000\n",
              "11    Man   40000"
            ]
          },
          "metadata": {}
        },
        {
          "output_type": "stream",
          "name": "stdout",
          "text": [
            "The number of null values:\n",
            "Gender    0\n",
            "Salary    0\n",
            "dtype: int64\n",
            "The summary of the average annual salary of all geneder:\n"
          ]
        },
        {
          "output_type": "display_data",
          "data": {
            "text/html": [
              "<div>\n",
              "<style scoped>\n",
              "    .dataframe tbody tr th:only-of-type {\n",
              "        vertical-align: middle;\n",
              "    }\n",
              "\n",
              "    .dataframe tbody tr th {\n",
              "        vertical-align: top;\n",
              "    }\n",
              "\n",
              "    .dataframe thead th {\n",
              "        text-align: right;\n",
              "    }\n",
              "</style>\n",
              "<table border=\"1\" class=\"dataframe\">\n",
              "  <thead>\n",
              "    <tr style=\"text-align: right;\">\n",
              "      <th></th>\n",
              "      <th>Salary</th>\n",
              "    </tr>\n",
              "  </thead>\n",
              "  <tbody>\n",
              "    <tr>\n",
              "      <th>count</th>\n",
              "      <td>10729.000000</td>\n",
              "    </tr>\n",
              "    <tr>\n",
              "      <th>mean</th>\n",
              "      <td>48777.239258</td>\n",
              "    </tr>\n",
              "    <tr>\n",
              "      <th>std</th>\n",
              "      <td>69458.784233</td>\n",
              "    </tr>\n",
              "    <tr>\n",
              "      <th>min</th>\n",
              "      <td>1000.000000</td>\n",
              "    </tr>\n",
              "    <tr>\n",
              "      <th>25%</th>\n",
              "      <td>2000.000000</td>\n",
              "    </tr>\n",
              "    <tr>\n",
              "      <th>50%</th>\n",
              "      <td>20000.000000</td>\n",
              "    </tr>\n",
              "    <tr>\n",
              "      <th>75%</th>\n",
              "      <td>70000.000000</td>\n",
              "    </tr>\n",
              "    <tr>\n",
              "      <th>max</th>\n",
              "      <td>500000.000000</td>\n",
              "    </tr>\n",
              "  </tbody>\n",
              "</table>\n",
              "</div>"
            ],
            "text/plain": [
              "              Salary\n",
              "count   10729.000000\n",
              "mean    48777.239258\n",
              "std     69458.784233\n",
              "min      1000.000000\n",
              "25%      2000.000000\n",
              "50%     20000.000000\n",
              "75%     70000.000000\n",
              "max    500000.000000"
            ]
          },
          "metadata": {}
        },
        {
          "output_type": "stream",
          "name": "stdout",
          "text": [
            "Median salary of all gender:  Salary    20000.0\n",
            "dtype: float64\n"
          ]
        }
      ]
    },
    {
      "cell_type": "markdown",
      "metadata": {
        "id": "npnUV9322piE"
      },
      "source": [
        "In general, the average annual salary of all geneders is 48777, the median is 20000 and te standard deviation is 69458."
      ]
    },
    {
      "cell_type": "code",
      "metadata": {
        "colab": {
          "base_uri": "https://localhost:8080/",
          "height": 531
        },
        "id": "CytAZAeqnAe9",
        "outputId": "50f0807c-0c56-40d9-a3cd-9ef379c7c65f"
      },
      "source": [
        "#generate a dataframe of man and show the desctibe of the dataset\n",
        "male_sal = Gender_sal[Gender_sal['Gender']=='Man']\n",
        "display(male_sal.head())\n",
        "print('The summary of the average annual salary of men:')\n",
        "display(male_sal.describe())\n",
        "print('The median salary of men: ', male_sal.median())"
      ],
      "execution_count": 92,
      "outputs": [
        {
          "output_type": "display_data",
          "data": {
            "text/html": [
              "<div>\n",
              "<style scoped>\n",
              "    .dataframe tbody tr th:only-of-type {\n",
              "        vertical-align: middle;\n",
              "    }\n",
              "\n",
              "    .dataframe tbody tr th {\n",
              "        vertical-align: top;\n",
              "    }\n",
              "\n",
              "    .dataframe thead th {\n",
              "        text-align: right;\n",
              "    }\n",
              "</style>\n",
              "<table border=\"1\" class=\"dataframe\">\n",
              "  <thead>\n",
              "    <tr style=\"text-align: right;\">\n",
              "      <th></th>\n",
              "      <th>Gender</th>\n",
              "      <th>Salary</th>\n",
              "    </tr>\n",
              "  </thead>\n",
              "  <tbody>\n",
              "    <tr>\n",
              "      <th>1</th>\n",
              "      <td>Man</td>\n",
              "      <td>125000</td>\n",
              "    </tr>\n",
              "    <tr>\n",
              "      <th>2</th>\n",
              "      <td>Man</td>\n",
              "      <td>20000</td>\n",
              "    </tr>\n",
              "    <tr>\n",
              "      <th>3</th>\n",
              "      <td>Man</td>\n",
              "      <td>150000</td>\n",
              "    </tr>\n",
              "    <tr>\n",
              "      <th>8</th>\n",
              "      <td>Man</td>\n",
              "      <td>80000</td>\n",
              "    </tr>\n",
              "    <tr>\n",
              "      <th>11</th>\n",
              "      <td>Man</td>\n",
              "      <td>40000</td>\n",
              "    </tr>\n",
              "  </tbody>\n",
              "</table>\n",
              "</div>"
            ],
            "text/plain": [
              "   Gender  Salary\n",
              "1     Man  125000\n",
              "2     Man   20000\n",
              "3     Man  150000\n",
              "8     Man   80000\n",
              "11    Man   40000"
            ]
          },
          "metadata": {}
        },
        {
          "output_type": "stream",
          "name": "stdout",
          "text": [
            "The summary of the average annual salary of men:\n"
          ]
        },
        {
          "output_type": "display_data",
          "data": {
            "text/html": [
              "<div>\n",
              "<style scoped>\n",
              "    .dataframe tbody tr th:only-of-type {\n",
              "        vertical-align: middle;\n",
              "    }\n",
              "\n",
              "    .dataframe tbody tr th {\n",
              "        vertical-align: top;\n",
              "    }\n",
              "\n",
              "    .dataframe thead th {\n",
              "        text-align: right;\n",
              "    }\n",
              "</style>\n",
              "<table border=\"1\" class=\"dataframe\">\n",
              "  <thead>\n",
              "    <tr style=\"text-align: right;\">\n",
              "      <th></th>\n",
              "      <th>Salary</th>\n",
              "    </tr>\n",
              "  </thead>\n",
              "  <tbody>\n",
              "    <tr>\n",
              "      <th>count</th>\n",
              "      <td>8872.000000</td>\n",
              "    </tr>\n",
              "    <tr>\n",
              "      <th>mean</th>\n",
              "      <td>50750.619928</td>\n",
              "    </tr>\n",
              "    <tr>\n",
              "      <th>std</th>\n",
              "      <td>70347.974812</td>\n",
              "    </tr>\n",
              "    <tr>\n",
              "      <th>min</th>\n",
              "      <td>1000.000000</td>\n",
              "    </tr>\n",
              "    <tr>\n",
              "      <th>25%</th>\n",
              "      <td>3000.000000</td>\n",
              "    </tr>\n",
              "    <tr>\n",
              "      <th>50%</th>\n",
              "      <td>25000.000000</td>\n",
              "    </tr>\n",
              "    <tr>\n",
              "      <th>75%</th>\n",
              "      <td>70000.000000</td>\n",
              "    </tr>\n",
              "    <tr>\n",
              "      <th>max</th>\n",
              "      <td>500000.000000</td>\n",
              "    </tr>\n",
              "  </tbody>\n",
              "</table>\n",
              "</div>"
            ],
            "text/plain": [
              "              Salary\n",
              "count    8872.000000\n",
              "mean    50750.619928\n",
              "std     70347.974812\n",
              "min      1000.000000\n",
              "25%      3000.000000\n",
              "50%     25000.000000\n",
              "75%     70000.000000\n",
              "max    500000.000000"
            ]
          },
          "metadata": {}
        },
        {
          "output_type": "stream",
          "name": "stdout",
          "text": [
            "The median salary of men:  Salary    25000.0\n",
            "dtype: float64\n"
          ]
        }
      ]
    },
    {
      "cell_type": "code",
      "metadata": {
        "colab": {
          "base_uri": "https://localhost:8080/",
          "height": 531
        },
        "id": "yOo7c2MNnpL2",
        "outputId": "60a9184b-110d-467f-b21b-b3d633c578dc"
      },
      "source": [
        "#generate a dataframe of man and show the desctibe of the dataset\n",
        "\n",
        "female_sal = Gender_sal[Gender_sal['Gender']=='Woman']\n",
        "display(female_sal.head())\n",
        "print('The summary of the average annual salary of women:')\n",
        "display(female_sal.describe())\n",
        "print('The median salary of women: ', female_sal.median())"
      ],
      "execution_count": 93,
      "outputs": [
        {
          "output_type": "display_data",
          "data": {
            "text/html": [
              "<div>\n",
              "<style scoped>\n",
              "    .dataframe tbody tr th:only-of-type {\n",
              "        vertical-align: middle;\n",
              "    }\n",
              "\n",
              "    .dataframe tbody tr th {\n",
              "        vertical-align: top;\n",
              "    }\n",
              "\n",
              "    .dataframe thead th {\n",
              "        text-align: right;\n",
              "    }\n",
              "</style>\n",
              "<table border=\"1\" class=\"dataframe\">\n",
              "  <thead>\n",
              "    <tr style=\"text-align: right;\">\n",
              "      <th></th>\n",
              "      <th>Gender</th>\n",
              "      <th>Salary</th>\n",
              "    </tr>\n",
              "  </thead>\n",
              "  <tbody>\n",
              "    <tr>\n",
              "      <th>20</th>\n",
              "      <td>Woman</td>\n",
              "      <td>2000</td>\n",
              "    </tr>\n",
              "    <tr>\n",
              "      <th>22</th>\n",
              "      <td>Woman</td>\n",
              "      <td>150000</td>\n",
              "    </tr>\n",
              "    <tr>\n",
              "      <th>30</th>\n",
              "      <td>Woman</td>\n",
              "      <td>20000</td>\n",
              "    </tr>\n",
              "    <tr>\n",
              "      <th>34</th>\n",
              "      <td>Woman</td>\n",
              "      <td>150000</td>\n",
              "    </tr>\n",
              "    <tr>\n",
              "      <th>44</th>\n",
              "      <td>Woman</td>\n",
              "      <td>2000</td>\n",
              "    </tr>\n",
              "  </tbody>\n",
              "</table>\n",
              "</div>"
            ],
            "text/plain": [
              "   Gender  Salary\n",
              "20  Woman    2000\n",
              "22  Woman  150000\n",
              "30  Woman   20000\n",
              "34  Woman  150000\n",
              "44  Woman    2000"
            ]
          },
          "metadata": {}
        },
        {
          "output_type": "stream",
          "name": "stdout",
          "text": [
            "The summary of the average annual salary of women:\n"
          ]
        },
        {
          "output_type": "display_data",
          "data": {
            "text/html": [
              "<div>\n",
              "<style scoped>\n",
              "    .dataframe tbody tr th:only-of-type {\n",
              "        vertical-align: middle;\n",
              "    }\n",
              "\n",
              "    .dataframe tbody tr th {\n",
              "        vertical-align: top;\n",
              "    }\n",
              "\n",
              "    .dataframe thead th {\n",
              "        text-align: right;\n",
              "    }\n",
              "</style>\n",
              "<table border=\"1\" class=\"dataframe\">\n",
              "  <thead>\n",
              "    <tr style=\"text-align: right;\">\n",
              "      <th></th>\n",
              "      <th>Salary</th>\n",
              "    </tr>\n",
              "  </thead>\n",
              "  <tbody>\n",
              "    <tr>\n",
              "      <th>count</th>\n",
              "      <td>1683.000000</td>\n",
              "    </tr>\n",
              "    <tr>\n",
              "      <th>mean</th>\n",
              "      <td>36417.112299</td>\n",
              "    </tr>\n",
              "    <tr>\n",
              "      <th>std</th>\n",
              "      <td>59442.716093</td>\n",
              "    </tr>\n",
              "    <tr>\n",
              "      <th>min</th>\n",
              "      <td>1000.000000</td>\n",
              "    </tr>\n",
              "    <tr>\n",
              "      <th>25%</th>\n",
              "      <td>1000.000000</td>\n",
              "    </tr>\n",
              "    <tr>\n",
              "      <th>50%</th>\n",
              "      <td>7500.000000</td>\n",
              "    </tr>\n",
              "    <tr>\n",
              "      <th>75%</th>\n",
              "      <td>50000.000000</td>\n",
              "    </tr>\n",
              "    <tr>\n",
              "      <th>max</th>\n",
              "      <td>500000.000000</td>\n",
              "    </tr>\n",
              "  </tbody>\n",
              "</table>\n",
              "</div>"
            ],
            "text/plain": [
              "              Salary\n",
              "count    1683.000000\n",
              "mean    36417.112299\n",
              "std     59442.716093\n",
              "min      1000.000000\n",
              "25%      1000.000000\n",
              "50%      7500.000000\n",
              "75%     50000.000000\n",
              "max    500000.000000"
            ]
          },
          "metadata": {}
        },
        {
          "output_type": "stream",
          "name": "stdout",
          "text": [
            "The median salary of women:  Salary    7500.0\n",
            "dtype: float64\n"
          ]
        }
      ]
    },
    {
      "cell_type": "markdown",
      "metadata": {
        "id": "4OhPP9Y72_f7"
      },
      "source": [
        "For the men dataset, the mean is 50750.62. The median is 25000 and the standard deviation is 70347.97. For the women dataset, the mean is 36417.11. The median is 7500.0 and the standard deviation is 59442.71. \n",
        "\n",
        "Obviously, the average annual salary of men is higher than women. Women dataset has smaller standard deviation, so the annual salary of women is more close. Compared with the mean & median of the whole population, the mean and median of women is much lower. \n",
        "\n",
        "In the following sections, we will plot boxplot and histogram of two dataset to see the distributions. "
      ]
    },
    {
      "cell_type": "code",
      "metadata": {
        "colab": {
          "base_uri": "https://localhost:8080/",
          "height": 411
        },
        "id": "28gRwlJolWiy",
        "outputId": "30b70c37-574c-429f-8d87-ed145b54ff65"
      },
      "source": [
        "#Plot the distribution of the salary of men and women in the boxplot\n",
        "fig, (ax1, ax2) = plt.subplots(1, 2, figsize=(12,6))\n",
        "ax1.boxplot(male_sal['Salary'],showfliers=False) \n",
        "ax1.set_title(\"Boxplot of Salary of Men\")\n",
        "ax1.set(xlabel=\"Man\", ylabel=\"Salary\")\n",
        "\n",
        "ax2.boxplot(female_sal['Salary'],showfliers=False)  \n",
        "ax2.set_title(\"Boxplot of Salary of Women\")\n",
        "ax2.set(xlabel=\"Woman\", ylabel=\"Salary\")\n",
        "\n",
        "plt.show()"
      ],
      "execution_count": 94,
      "outputs": [
        {
          "output_type": "display_data",
          "data": {
            "image/png": "[encoded data removed]",
            "text/plain": [
              "<Figure size 864x432 with 2 Axes>"
            ]
          },
          "metadata": {
            "needs_background": "light"
          }
        }
      ]
    },
    {
      "cell_type": "code",
      "metadata": {
        "colab": {
          "base_uri": "https://localhost:8080/",
          "height": 411
        },
        "id": "l8uPh8X_l5UK",
        "outputId": "535a67c0-3e01-4710-d816-7bb7d231993c"
      },
      "source": [
        "#Plot the distribution of the salary of men and women\n",
        "fig, (ax1, ax2) = plt.subplots(1, 2, figsize=(17,6))\n",
        "ax1.hist(male_sal['Salary'], bins=20) \n",
        "ax1.set_title(\"Distribution of Salary of Men\")\n",
        "ax1.set(xlabel=\"Salary\", ylabel=\"number of people\")\n",
        "\n",
        "ax2.hist(female_sal['Salary'], bins=20) \n",
        "ax2.set_title(\"Distribution of Salary of Women\")\n",
        "ax2.set(xlabel=\"Salary\", ylabel=\"number of people\")\n",
        "plt.show()"
      ],
      "execution_count": 95,
      "outputs": [
        {
          "output_type": "display_data",
          "data": {
            "image/png": "[encoded data removed]",
            "text/plain": [
              "<Figure size 1224x432 with 2 Axes>"
            ]
          },
          "metadata": {
            "needs_background": "light"
          }
        }
      ]
    },
    {
      "cell_type": "markdown",
      "metadata": {
        "id": "pDF1qC-qml3c"
      },
      "source": [
        "From the boxplot and histogram, both dataset are positively skewed. There is a flat tail at the right side of the data. This means there are several outliers (people have high income). From the boxplot, we can see that the women dataset has less outliers and has less variance. Most people have low salary, the number of peoeple with salary higher than 50000 decreases dramaticaly. "
      ]
    },
    {
      "cell_type": "markdown",
      "metadata": {
        "id": "CKquGa5l3TLY"
      },
      "source": [
        "# **Part b** \n",
        "In this part, we try to perform two-sample t-test to check the null assumption: two dataset has equal mean. \n",
        "\n",
        "First, we need to check the assumptions of the two-sample t-test:\n",
        "\n",
        "1. Two datasets have equal variance.\n",
        "2. Two datasets are randomly sampled\n",
        "3. Two datasets have normal distribution.\n",
        "4. Two datasets are independent. "
      ]
    },
    {
      "cell_type": "code",
      "metadata": {
        "colab": {
          "base_uri": "https://localhost:8080/"
        },
        "id": "fEcqw4S13cMF",
        "outputId": "9d6410d6-ce36-4e83-9f2a-c089365f16c2"
      },
      "source": [
        "#Check the variance difference of two datasets\n",
        "male_var = np.var(male_sal['Salary'])\n",
        "female_var = np.var(female_sal['Salary'])\n",
        "print('Variance of salary of men: ', male_var)\n",
        "print('Variance of salary of women: ', female_var )\n",
        "print('Variance ratio: ', male_var/female_var )"
      ],
      "execution_count": 96,
      "outputs": [
        {
          "output_type": "stream",
          "name": "stdout",
          "text": [
            "Variance of salary of men:  4948279756.152964\n",
            "Variance of salary of women:  3531337009.6053066\n",
            "Variance ratio:  1.4012482362044587\n"
          ]
        }
      ]
    },
    {
      "cell_type": "markdown",
      "metadata": {
        "id": "Sxh-waU7O76Q"
      },
      "source": [
        "Since the variance ratio is 1.40, we can assume 2 dataset have equal variance in this case. "
      ]
    },
    {
      "cell_type": "code",
      "metadata": {
        "colab": {
          "base_uri": "https://localhost:8080/",
          "height": 587
        },
        "id": "ba_BsgCB_QDc",
        "outputId": "d6647d27-08cb-48ab-cc3c-8d0a7a0969c1"
      },
      "source": [
        "#Plot qqplot to check whether the men and women datasets are normal distribution\n",
        "from statsmodels.graphics.gofplots import qqplot\n",
        "qqplot(male_sal['Salary'], line='s')\n",
        "plt.title('qqplot of men')\n",
        "plt.show()\n",
        "qqplot(female_sal['Salary'], line='s')\n",
        "plt.title('qqplot of women')\n",
        "plt.show()"
      ],
      "execution_count": 97,
      "outputs": [
        {
          "output_type": "display_data",
          "data": {
            "image/png": "[encoded data removed]",
            "text/plain": [
              "<Figure size 432x288 with 1 Axes>"
            ]
          },
          "metadata": {
            "needs_background": "light"
          }
        },
        {
          "output_type": "display_data",
          "data": {
            "image/png": "[encoded data removed]",
            "text/plain": [
              "<Figure size 432x288 with 1 Axes>"
            ]
          },
          "metadata": {
            "needs_background": "light"
          }
        }
      ]
    },
    {
      "cell_type": "markdown",
      "metadata": {
        "id": "6FjvuEGPPJ9W"
      },
      "source": [
        "From the qqplots and the histograms above, both datasets have positively skewed distribution. Hence, in this case the assumption of two-sample t-test is not satisfied, so we cannot apply t-test to the datasets directly. There are some methods to do. First, we will use bootstrap to get datasets of mean. According to central limit theorem, the mean values of the random sampling should follow normal distribution and we can apply t-test on the bootstrapped data. Second, we can apply nonparametric test that does not require normal distribution of dataset. For example Mann-Whitney U test can be applied. "
      ]
    },
    {
      "cell_type": "code",
      "metadata": {
        "colab": {
          "base_uri": "https://localhost:8080/"
        },
        "id": "rWr_IZD1UNOR",
        "outputId": "b222aa9a-864b-49d6-d5a2-fb263cfd646d"
      },
      "source": [
        "#Perform t-test\n",
        "print('Null hypothesis: two datasets have same mean. ')\n",
        "t_test_result = stats.ttest_ind(a= male_sal['Salary'], b=female_sal['Salary'], equal_var=True)\n",
        "print('T-value = ', t_test_result[0])\n",
        "print('p-value = ', t_test_result[1])\n",
        "if t_test_result[1] > 0.05:\n",
        "  print('The null hypothesis is correct, two datasets are not statically significant ')\n",
        "else:\n",
        "  print('The null hypothesis is rejected, two datasets are statically significant')"
      ],
      "execution_count": 98,
      "outputs": [
        {
          "output_type": "stream",
          "name": "stdout",
          "text": [
            "Null hypothesis: two datasets have same mean. \n",
            "T-value =  7.844333791744695\n",
            "p-value =  4.77315104074462e-15\n",
            "The null hypothesis is rejected, two datasets are statically significant\n"
          ]
        }
      ]
    },
    {
      "cell_type": "markdown",
      "metadata": {
        "id": "6ODW-U5iUtcE"
      },
      "source": [
        "As discussed above, the assumption is not satisfied, so t-test result is not accurate. We should consult the t-test results of the bootstrapped data. "
      ]
    },
    {
      "cell_type": "markdown",
      "metadata": {
        "id": "yCy6trhEgAVS"
      },
      "source": [
        "# **Part c** \n",
        "Bootstrap the data to compare the mean of salary."
      ]
    },
    {
      "cell_type": "code",
      "metadata": {
        "colab": {
          "base_uri": "https://localhost:8080/"
        },
        "id": "GkrNyI1IfgkI",
        "outputId": "e7b0fd85-472a-4157-d6e5-55450d7bc7c6"
      },
      "source": [
        "print(\"Total number of male samples: \", len(male_sal))\n",
        "print(\"Total number of female samples: \", len(female_sal))"
      ],
      "execution_count": 115,
      "outputs": [
        {
          "output_type": "stream",
          "name": "stdout",
          "text": [
            "Total number of male samples:  8872\n",
            "Total number of female samples:  1683\n"
          ]
        }
      ]
    },
    {
      "cell_type": "code",
      "metadata": {
        "id": "R01RefErDU2A"
      },
      "source": [
        "#######################\n",
        "#The bootstrap function\n",
        "#Input is the datset and number of replications\n",
        "#output is the list of mean of each bootstrapped dataset\n",
        "#This function randomly randomly sampled from the input dataset and generate a bootstrapped dataset with the same number of samples as the original dataset\n",
        "#This function calculate the mean of each bootstrap dataset and stored in a list\n",
        "#######################\n",
        "def bootstrap_data (data, iteration):\n",
        "  sample_mean = []\n",
        "  for i in range(iteration):\n",
        "    avg_temp = np.mean(np.random.choice(data,size=len(data)))\n",
        "    sample_mean.append(avg_temp)\n",
        "  return sample_mean\n"
      ],
      "execution_count": 116,
      "outputs": []
    },
    {
      "cell_type": "code",
      "metadata": {
        "colab": {
          "base_uri": "https://localhost:8080/"
        },
        "id": "UgqluB0lEh6l",
        "outputId": "05aa6e28-30f4-42ba-c889-2663ea525d32"
      },
      "source": [
        "#bootstrap men dataset\n",
        "man_sal_bootstrap = bootstrap_data (male_sal['Salary'].tolist(), 1000)\n",
        "man_sal_bootstrap = np.array(man_sal_bootstrap)\n",
        "print('The number of men bootstrapped data: ' ,len(man_sal_bootstrap))# check the outpust list size"
      ],
      "execution_count": 117,
      "outputs": [
        {
          "output_type": "stream",
          "name": "stdout",
          "text": [
            "The number of men bootstrapped data:  1000\n"
          ]
        }
      ]
    },
    {
      "cell_type": "code",
      "metadata": {
        "colab": {
          "base_uri": "https://localhost:8080/"
        },
        "id": "u5ZdKyoynrXM",
        "outputId": "7b942f29-f0cb-4a4b-b1ac-1e9033874260"
      },
      "source": [
        "#bootstrap women dataset\n",
        "woman_sal_bootstrap = bootstrap_data (female_sal['Salary'].tolist(), 1000)\n",
        "woman_sal_bootstrap = np.array(woman_sal_bootstrap)\n",
        "\n",
        "print('The number of women bootstrapped data: ' ,len(woman_sal_bootstrap))"
      ],
      "execution_count": 118,
      "outputs": [
        {
          "output_type": "stream",
          "name": "stdout",
          "text": [
            "The number of women bootstrapped data:  1000\n"
          ]
        }
      ]
    },
    {
      "cell_type": "code",
      "metadata": {
        "id": "7gXYE_p5t1WB"
      },
      "source": [
        "#Calculate the difference of mean\n",
        "mean_difference = man_sal_bootstrap-woman_sal_bootstrap"
      ],
      "execution_count": 119,
      "outputs": []
    },
    {
      "cell_type": "code",
      "metadata": {
        "colab": {
          "base_uri": "https://localhost:8080/",
          "height": 357
        },
        "id": "I85jIojqrVzT",
        "outputId": "560a6a75-7e21-4bfa-907b-a41fda7790bc"
      },
      "source": [
        "#plot the distribution of bootstrapped data\n",
        "fig, (ax1, ax2) = plt.subplots(1, 2, figsize=(17,5))\n",
        "ax1.hist(man_sal_bootstrap, bins='auto',label='Man')  \n",
        "ax1.hist(woman_sal_bootstrap, bins='auto', label= 'Woman')  \n",
        "ax1.set_title('Figure 2-1a: Bootstrapped Distribution of Men and Women')\n",
        "ax1.set(xlabel = 'Salary',ylabel = 'Number of Population')\n",
        "ax1.legend()\n",
        "ax1.grid()\n",
        "ax2.hist(mean_difference, bins = 'auto', label = 'mean difference')\n",
        "ax2.set_title('Figure 2-1b: Distribution of difference in means')\n",
        "ax2.set(xlabel = 'Salary',ylabel = 'Number of Population')\n",
        "ax2.legend()\n",
        "ax2.grid()"
      ],
      "execution_count": 120,
      "outputs": [
        {
          "output_type": "display_data",
          "data": {
            "image/png": "[encoded data removed]",
            "text/plain": [
              "<Figure size 1224x360 with 2 Axes>"
            ]
          },
          "metadata": {
            "needs_background": "light"
          }
        }
      ]
    },
    {
      "cell_type": "markdown",
      "metadata": {
        "id": "nnqcsFhbWd1S"
      },
      "source": [
        "According to the plots above, the bootstrapped distributions for men and women are normal distributions. The distribution of difference in means is also normal distribution. Thus, we can process to two-sample t-test. \n",
        "\n",
        "Besides, the bootstrapped distribution of men has less variance than women and two datasets are significantly different. "
      ]
    },
    {
      "cell_type": "markdown",
      "metadata": {
        "id": "l9rR08ctv8a7"
      },
      "source": [
        "# **Part d** \n",
        "Perform two-sample t-test with 0.05 threshold on bootstrapped data"
      ]
    },
    {
      "cell_type": "code",
      "metadata": {
        "colab": {
          "base_uri": "https://localhost:8080/"
        },
        "id": "U9aj52aov4LB",
        "outputId": "d51078db-178b-47b2-f82b-67c33dc6794b"
      },
      "source": [
        "boot_male_var = np.var(man_sal_bootstrap)\n",
        "boot_female_var = np.var(woman_sal_bootstrap)\n",
        "print('Variance of bootstrapped data of men: ', boot_male_var)\n",
        "print('Variance of bootstrapped data of women: ', boot_female_var )\n",
        "print('Variance ratio of bootstrapped data: ', boot_female_var/boot_male_var )"
      ],
      "execution_count": 121,
      "outputs": [
        {
          "output_type": "stream",
          "name": "stdout",
          "text": [
            "Variance of bootstrapped data of men:  572727.1687546618\n",
            "Variance of bootstrapped data of women:  2078711.7958512814\n",
            "Variance ratio of bootstrapped data:  3.629497445304076\n"
          ]
        }
      ]
    },
    {
      "cell_type": "code",
      "metadata": {
        "colab": {
          "base_uri": "https://localhost:8080/"
        },
        "id": "j1SCJPI8w23E",
        "outputId": "6d8c500b-0609-47c1-9216-770d5f23ce6d"
      },
      "source": [
        "print('Null hypothesis: two datasets have same mean. ')\n",
        "t_test_result = stats.ttest_ind(a= man_sal_bootstrap, b=woman_sal_bootstrap, equal_var=True)\n",
        "print('T-value = ', t_test_result[0])\n",
        "print('p-value = ', t_test_result[1])\n",
        "if t_test_result[1] > 0.05:\n",
        "  print('The null hypothesis is correct, two datasets are not statically significant ')\n",
        "else:\n",
        "  print('The null hypothesis is rejected, two datasets are statically significant')"
      ],
      "execution_count": 122,
      "outputs": [
        {
          "output_type": "stream",
          "name": "stdout",
          "text": [
            "Null hypothesis: two datasets have same mean. \n",
            "T-value =  278.67609063627725\n",
            "p-value =  0.0\n",
            "The null hypothesis is rejected, two datasets are statically significant\n"
          ]
        }
      ]
    },
    {
      "cell_type": "markdown",
      "metadata": {
        "id": "zz83CfJ6T_ID"
      },
      "source": [
        "The t test statistic is 278 and the corresponding two-sided p-value is 0.0. This is much smaller than the threshold (0.05). Thus, the two datasets have very different mean and the mean of the men's salary is much higher than women's salary. This corresponds to the results in part a. \n"
      ]
    },
    {
      "cell_type": "markdown",
      "metadata": {
        "id": "pbBAZJXRyLjq"
      },
      "source": [
        "# **Part e** \n",
        "Findings:  \n",
        "In general, the average annual salary of men is much higher than women. Women's salary has less variance and outliers. As salary increases, the number of population decreases. \n",
        "\n",
        "As discussed above, the mean of the men dataset is much larger than the mean of women dataset. The difference between two datasets are statistically significant. The null hypothesis (equal mean) is rejected. \n",
        "\n",
        "Bootstrapp is a easy way to do random sampling and approximate the whole population. This saves time and money. It also helps us to transform the original dataset (positively skewed) into normal distribution, so we can apply t-test on the bootstrapped data. "
      ]
    },
    {
      "cell_type": "markdown",
      "metadata": {
        "id": "GUy9lq2dyZF9"
      },
      "source": [
        "## Problem 3\n",
        "# **Part a**\n",
        "Obtain the descriptive statistics for men and women of highest level of formal education"
      ]
    },
    {
      "cell_type": "code",
      "metadata": {
        "colab": {
          "base_uri": "https://localhost:8080/",
          "height": 254
        },
        "id": "_ZUREpubyYn8",
        "outputId": "d547ae36-5bb6-45ee-c207-dfaf545a0b0f"
      },
      "source": [
        "#generate a dataframe of education and salary and show the description of the dataset\n",
        "Education_sal = df_temp[['Education','Salary']]\n",
        "print('The number of null values: ', Education_sal.isnull().sum())#check the null item in the dataset\n",
        "display(Education_sal.head())\n",
        "\n"
      ],
      "execution_count": 123,
      "outputs": [
        {
          "output_type": "stream",
          "name": "stdout",
          "text": [
            "The number of null values:  Education    0\n",
            "Salary       0\n",
            "dtype: int64\n"
          ]
        },
        {
          "output_type": "display_data",
          "data": {
            "text/html": [
              "<div>\n",
              "<style scoped>\n",
              "    .dataframe tbody tr th:only-of-type {\n",
              "        vertical-align: middle;\n",
              "    }\n",
              "\n",
              "    .dataframe tbody tr th {\n",
              "        vertical-align: top;\n",
              "    }\n",
              "\n",
              "    .dataframe thead th {\n",
              "        text-align: right;\n",
              "    }\n",
              "</style>\n",
              "<table border=\"1\" class=\"dataframe\">\n",
              "  <thead>\n",
              "    <tr style=\"text-align: right;\">\n",
              "      <th></th>\n",
              "      <th>Education</th>\n",
              "      <th>Salary</th>\n",
              "    </tr>\n",
              "  </thead>\n",
              "  <tbody>\n",
              "    <tr>\n",
              "      <th>1</th>\n",
              "      <td>Master’s degree</td>\n",
              "      <td>125000</td>\n",
              "    </tr>\n",
              "    <tr>\n",
              "      <th>2</th>\n",
              "      <td>Bachelor’s degree</td>\n",
              "      <td>20000</td>\n",
              "    </tr>\n",
              "    <tr>\n",
              "      <th>3</th>\n",
              "      <td>Master’s degree</td>\n",
              "      <td>150000</td>\n",
              "    </tr>\n",
              "    <tr>\n",
              "      <th>8</th>\n",
              "      <td>Doctoral degree</td>\n",
              "      <td>80000</td>\n",
              "    </tr>\n",
              "    <tr>\n",
              "      <th>11</th>\n",
              "      <td>Doctoral degree</td>\n",
              "      <td>40000</td>\n",
              "    </tr>\n",
              "  </tbody>\n",
              "</table>\n",
              "</div>"
            ],
            "text/plain": [
              "            Education  Salary\n",
              "1     Master’s degree  125000\n",
              "2   Bachelor’s degree   20000\n",
              "3     Master’s degree  150000\n",
              "8     Doctoral degree   80000\n",
              "11    Doctoral degree   40000"
            ]
          },
          "metadata": {}
        }
      ]
    },
    {
      "cell_type": "code",
      "metadata": {
        "colab": {
          "base_uri": "https://localhost:8080/",
          "height": 413
        },
        "id": "Aa5oIJZbZTdA",
        "outputId": "927d583f-41d1-4395-94f9-8369f6a37de1"
      },
      "source": [
        "print('The summary of the Education level and average annual salary')\n",
        "display(Education_sal.describe())\n",
        "print('Median salary is : ', Education_sal.median())\n",
        "print('All the education levels: ', Education_sal['Education'].unique())#Check all the items in education"
      ],
      "execution_count": 124,
      "outputs": [
        {
          "output_type": "stream",
          "name": "stdout",
          "text": [
            "The summary of the Education level and average annual salary\n"
          ]
        },
        {
          "output_type": "display_data",
          "data": {
            "text/html": [
              "<div>\n",
              "<style scoped>\n",
              "    .dataframe tbody tr th:only-of-type {\n",
              "        vertical-align: middle;\n",
              "    }\n",
              "\n",
              "    .dataframe tbody tr th {\n",
              "        vertical-align: top;\n",
              "    }\n",
              "\n",
              "    .dataframe thead th {\n",
              "        text-align: right;\n",
              "    }\n",
              "</style>\n",
              "<table border=\"1\" class=\"dataframe\">\n",
              "  <thead>\n",
              "    <tr style=\"text-align: right;\">\n",
              "      <th></th>\n",
              "      <th>Salary</th>\n",
              "    </tr>\n",
              "  </thead>\n",
              "  <tbody>\n",
              "    <tr>\n",
              "      <th>count</th>\n",
              "      <td>10729.000000</td>\n",
              "    </tr>\n",
              "    <tr>\n",
              "      <th>mean</th>\n",
              "      <td>48777.239258</td>\n",
              "    </tr>\n",
              "    <tr>\n",
              "      <th>std</th>\n",
              "      <td>69458.784233</td>\n",
              "    </tr>\n",
              "    <tr>\n",
              "      <th>min</th>\n",
              "      <td>1000.000000</td>\n",
              "    </tr>\n",
              "    <tr>\n",
              "      <th>25%</th>\n",
              "      <td>2000.000000</td>\n",
              "    </tr>\n",
              "    <tr>\n",
              "      <th>50%</th>\n",
              "      <td>20000.000000</td>\n",
              "    </tr>\n",
              "    <tr>\n",
              "      <th>75%</th>\n",
              "      <td>70000.000000</td>\n",
              "    </tr>\n",
              "    <tr>\n",
              "      <th>max</th>\n",
              "      <td>500000.000000</td>\n",
              "    </tr>\n",
              "  </tbody>\n",
              "</table>\n",
              "</div>"
            ],
            "text/plain": [
              "              Salary\n",
              "count   10729.000000\n",
              "mean    48777.239258\n",
              "std     69458.784233\n",
              "min      1000.000000\n",
              "25%      2000.000000\n",
              "50%     20000.000000\n",
              "75%     70000.000000\n",
              "max    500000.000000"
            ]
          },
          "metadata": {}
        },
        {
          "output_type": "stream",
          "name": "stdout",
          "text": [
            "Median salary is :  Salary    20000.0\n",
            "dtype: float64\n",
            "All the education levels:  ['Master’s degree' 'Bachelor’s degree' 'Doctoral degree'\n",
            " 'Some college/university study without earning a bachelor’s degree'\n",
            " 'Professional degree' 'I prefer not to answer'\n",
            " 'No formal education past high school']\n"
          ]
        }
      ]
    },
    {
      "cell_type": "markdown",
      "metadata": {
        "id": "BEBE-0FtZZZw"
      },
      "source": [
        "From the table, the average salary of whole population is 45777, the median is 20000. This corresponds to the results in Problem 2, Part a. "
      ]
    },
    {
      "cell_type": "code",
      "metadata": {
        "colab": {
          "base_uri": "https://localhost:8080/",
          "height": 1000
        },
        "id": "nfsa61ryq-YU",
        "outputId": "60248d32-e015-4038-82b1-846fad4baca9"
      },
      "source": [
        "#generate the dataset for bachelor , master and doctoral degree\n",
        "Bachelor_sal = Education_sal[Education_sal['Education']==\"Bachelor’s degree\"]\n",
        "Master_sal = Education_sal[Education_sal['Education']==\"Master’s degree\"]\n",
        "Doctor_sal = Education_sal[Education_sal['Education']==\"Doctoral degree\"]\n",
        "#display the summary of datasets\n",
        "print(\"The summary of the salary distribution of Bachelor's degree\")\n",
        "display(Bachelor_sal.describe())\n",
        "print('Median salary is : ', Bachelor_sal.median())\n",
        "print(\"The summary of the salary distribution of Master's degree\")\n",
        "display(Master_sal.describe())\n",
        "print('Median salary is : ', Master_sal.median())\n",
        "print(\"The summary of the salary distribution of Doctoral degree\")\n",
        "display(Doctor_sal.describe())\n",
        "print('Median salary is : ',Doctor_sal.median())\n"
      ],
      "execution_count": 125,
      "outputs": [
        {
          "output_type": "stream",
          "name": "stdout",
          "text": [
            "The summary of the salary distribution of Bachelor's degree\n"
          ]
        },
        {
          "output_type": "display_data",
          "data": {
            "text/html": [
              "<div>\n",
              "<style scoped>\n",
              "    .dataframe tbody tr th:only-of-type {\n",
              "        vertical-align: middle;\n",
              "    }\n",
              "\n",
              "    .dataframe tbody tr th {\n",
              "        vertical-align: top;\n",
              "    }\n",
              "\n",
              "    .dataframe thead th {\n",
              "        text-align: right;\n",
              "    }\n",
              "</style>\n",
              "<table border=\"1\" class=\"dataframe\">\n",
              "  <thead>\n",
              "    <tr style=\"text-align: right;\">\n",
              "      <th></th>\n",
              "      <th>Salary</th>\n",
              "    </tr>\n",
              "  </thead>\n",
              "  <tbody>\n",
              "    <tr>\n",
              "      <th>count</th>\n",
              "      <td>3013.000000</td>\n",
              "    </tr>\n",
              "    <tr>\n",
              "      <th>mean</th>\n",
              "      <td>35732.824427</td>\n",
              "    </tr>\n",
              "    <tr>\n",
              "      <th>std</th>\n",
              "      <td>60247.753546</td>\n",
              "    </tr>\n",
              "    <tr>\n",
              "      <th>min</th>\n",
              "      <td>1000.000000</td>\n",
              "    </tr>\n",
              "    <tr>\n",
              "      <th>25%</th>\n",
              "      <td>1000.000000</td>\n",
              "    </tr>\n",
              "    <tr>\n",
              "      <th>50%</th>\n",
              "      <td>10000.000000</td>\n",
              "    </tr>\n",
              "    <tr>\n",
              "      <th>75%</th>\n",
              "      <td>50000.000000</td>\n",
              "    </tr>\n",
              "    <tr>\n",
              "      <th>max</th>\n",
              "      <td>500000.000000</td>\n",
              "    </tr>\n",
              "  </tbody>\n",
              "</table>\n",
              "</div>"
            ],
            "text/plain": [
              "              Salary\n",
              "count    3013.000000\n",
              "mean    35732.824427\n",
              "std     60247.753546\n",
              "min      1000.000000\n",
              "25%      1000.000000\n",
              "50%     10000.000000\n",
              "75%     50000.000000\n",
              "max    500000.000000"
            ]
          },
          "metadata": {}
        },
        {
          "output_type": "stream",
          "name": "stdout",
          "text": [
            "Median salary is :  Salary    10000.0\n",
            "dtype: float64\n",
            "The summary of the salary distribution of Master's degree\n"
          ]
        },
        {
          "output_type": "display_data",
          "data": {
            "text/html": [
              "<div>\n",
              "<style scoped>\n",
              "    .dataframe tbody tr th:only-of-type {\n",
              "        vertical-align: middle;\n",
              "    }\n",
              "\n",
              "    .dataframe tbody tr th {\n",
              "        vertical-align: top;\n",
              "    }\n",
              "\n",
              "    .dataframe thead th {\n",
              "        text-align: right;\n",
              "    }\n",
              "</style>\n",
              "<table border=\"1\" class=\"dataframe\">\n",
              "  <thead>\n",
              "    <tr style=\"text-align: right;\">\n",
              "      <th></th>\n",
              "      <th>Salary</th>\n",
              "    </tr>\n",
              "  </thead>\n",
              "  <tbody>\n",
              "    <tr>\n",
              "      <th>count</th>\n",
              "      <td>4879.000000</td>\n",
              "    </tr>\n",
              "    <tr>\n",
              "      <th>mean</th>\n",
              "      <td>52120.106579</td>\n",
              "    </tr>\n",
              "    <tr>\n",
              "      <th>std</th>\n",
              "      <td>67681.571528</td>\n",
              "    </tr>\n",
              "    <tr>\n",
              "      <th>min</th>\n",
              "      <td>1000.000000</td>\n",
              "    </tr>\n",
              "    <tr>\n",
              "      <th>25%</th>\n",
              "      <td>4000.000000</td>\n",
              "    </tr>\n",
              "    <tr>\n",
              "      <th>50%</th>\n",
              "      <td>25000.000000</td>\n",
              "    </tr>\n",
              "    <tr>\n",
              "      <th>75%</th>\n",
              "      <td>70000.000000</td>\n",
              "    </tr>\n",
              "    <tr>\n",
              "      <th>max</th>\n",
              "      <td>500000.000000</td>\n",
              "    </tr>\n",
              "  </tbody>\n",
              "</table>\n",
              "</div>"
            ],
            "text/plain": [
              "              Salary\n",
              "count    4879.000000\n",
              "mean    52120.106579\n",
              "std     67681.571528\n",
              "min      1000.000000\n",
              "25%      4000.000000\n",
              "50%     25000.000000\n",
              "75%     70000.000000\n",
              "max    500000.000000"
            ]
          },
          "metadata": {}
        },
        {
          "output_type": "stream",
          "name": "stdout",
          "text": [
            "Median salary is :  Salary    25000.0\n",
            "dtype: float64\n",
            "The summary of the salary distribution of Doctoral degree\n"
          ]
        },
        {
          "output_type": "display_data",
          "data": {
            "text/html": [
              "<div>\n",
              "<style scoped>\n",
              "    .dataframe tbody tr th:only-of-type {\n",
              "        vertical-align: middle;\n",
              "    }\n",
              "\n",
              "    .dataframe tbody tr th {\n",
              "        vertical-align: top;\n",
              "    }\n",
              "\n",
              "    .dataframe thead th {\n",
              "        text-align: right;\n",
              "    }\n",
              "</style>\n",
              "<table border=\"1\" class=\"dataframe\">\n",
              "  <thead>\n",
              "    <tr style=\"text-align: right;\">\n",
              "      <th></th>\n",
              "      <th>Salary</th>\n",
              "    </tr>\n",
              "  </thead>\n",
              "  <tbody>\n",
              "    <tr>\n",
              "      <th>count</th>\n",
              "      <td>1718.000000</td>\n",
              "    </tr>\n",
              "    <tr>\n",
              "      <th>mean</th>\n",
              "      <td>68719.441211</td>\n",
              "    </tr>\n",
              "    <tr>\n",
              "      <th>std</th>\n",
              "      <td>85403.650394</td>\n",
              "    </tr>\n",
              "    <tr>\n",
              "      <th>min</th>\n",
              "      <td>1000.000000</td>\n",
              "    </tr>\n",
              "    <tr>\n",
              "      <th>25%</th>\n",
              "      <td>5000.000000</td>\n",
              "    </tr>\n",
              "    <tr>\n",
              "      <th>50%</th>\n",
              "      <td>40000.000000</td>\n",
              "    </tr>\n",
              "    <tr>\n",
              "      <th>75%</th>\n",
              "      <td>90000.000000</td>\n",
              "    </tr>\n",
              "    <tr>\n",
              "      <th>max</th>\n",
              "      <td>500000.000000</td>\n",
              "    </tr>\n",
              "  </tbody>\n",
              "</table>\n",
              "</div>"
            ],
            "text/plain": [
              "              Salary\n",
              "count    1718.000000\n",
              "mean    68719.441211\n",
              "std     85403.650394\n",
              "min      1000.000000\n",
              "25%      5000.000000\n",
              "50%     40000.000000\n",
              "75%     90000.000000\n",
              "max    500000.000000"
            ]
          },
          "metadata": {}
        },
        {
          "output_type": "stream",
          "name": "stdout",
          "text": [
            "Median salary is :  Salary    40000.0\n",
            "dtype: float64\n"
          ]
        }
      ]
    },
    {
      "cell_type": "markdown",
      "metadata": {
        "id": "WQ6zcwj-Zvxo"
      },
      "source": [
        "For Bachelor dataset, the mean is 35732. The median is 10000 and the standard deviation is 60247. For Master dataset, the mean is 52120. The median is 25000 and the standard deviation is 67681. For Doctoral dataset, the mean is 68719. The median is 40000 and the standard deviation is 85403. We can see the trend that higher education level causes higher annual salary. \n",
        "\n",
        "We will plot the boxplots and histograms below to study the distributions of the datasets. "
      ]
    },
    {
      "cell_type": "code",
      "metadata": {
        "colab": {
          "base_uri": "https://localhost:8080/",
          "height": 428
        },
        "id": "30bVM9jKs_r8",
        "outputId": "8f01dcb1-ff2b-403c-9146-fff801931cd9"
      },
      "source": [
        "#Plot the distribution of salary in boxplots\n",
        "fig, (ax1, ax2, ax3) = plt.subplots(1, 3, figsize=(17,6))\n",
        "ax1.boxplot(Bachelor_sal['Salary'],showfliers=False) \n",
        "ax1.set_title(\"Boxplot of Salary of Bachelor's Degree\")\n",
        "ax1.set(xlabel=\"Bachelor's Degree\", ylabel=\"Salary\")\n",
        "\n",
        "ax2.boxplot(Master_sal['Salary'],showfliers=False)  \n",
        "ax2.set_title(\"Boxplot of Salary of Master's Degree\")\n",
        "ax2.set(xlabel=\"Master's Degree\", ylabel=\"Salary\")\n",
        "\n",
        "ax3.boxplot(Doctor_sal['Salary'],showfliers=False)  \n",
        "ax3.set_title(\"Boxplot of Salary of Doctoral Degree\")\n",
        "ax3.set(xlabel=\"Doctoral Degree\", ylabel=\"Salary\")\n"
      ],
      "execution_count": 126,
      "outputs": [
        {
          "output_type": "execute_result",
          "data": {
            "text/plain": [
              "[Text(0, 0.5, 'Salary'), Text(0.5, 0, 'Doctoral Degree')]"
            ]
          },
          "metadata": {},
          "execution_count": 126
        },
        {
          "output_type": "display_data",
          "data": {
            "image/png": "[encoded data removed]",
            "text/plain": [
              "<Figure size 1224x432 with 3 Axes>"
            ]
          },
          "metadata": {
            "needs_background": "light"
          }
        }
      ]
    },
    {
      "cell_type": "code",
      "metadata": {
        "colab": {
          "base_uri": "https://localhost:8080/",
          "height": 357
        },
        "id": "aVr4VsT9u3BR",
        "outputId": "3a11366d-a2bc-4d50-920d-16b258c2025a"
      },
      "source": [
        "#plot the distribution in histogram\n",
        "fig, (ax1, ax2, ax3) = plt.subplots(1, 3, figsize=(17,5))\n",
        "ax1.hist(Bachelor_sal['Salary'], bins=15) \n",
        "ax1.set_title(\"Distribution of Salary of Bachelor's Degree\")\n",
        "ax1.set(xlabel=\"Salary\", ylabel=\"number of people\")\n",
        "\n",
        "ax2.hist(Master_sal['Salary'], bins=15) \n",
        "ax2.set_title(\"Distribution of Salary of Master's Degree\")\n",
        "ax2.set(xlabel=\"Salary\", ylabel=\"number of people\")\n",
        "\n",
        "ax3.hist(Doctor_sal['Salary'], bins=15) \n",
        "ax3.set_title(\"Distribution of Salary of Doctoral Degree\")\n",
        "ax3.set(xlabel=\"Salary\", ylabel=\"number of people\")\n",
        "plt.show()"
      ],
      "execution_count": 127,
      "outputs": [
        {
          "output_type": "display_data",
          "data": {
            "image/png": "[encoded data removed]",
            "text/plain": [
              "<Figure size 1224x360 with 3 Axes>"
            ]
          },
          "metadata": {
            "needs_background": "light"
          }
        }
      ]
    },
    {
      "cell_type": "markdown",
      "metadata": {
        "id": "3aD5WlacaPyI"
      },
      "source": [
        "From the boxplot and histogram, similar to Problem 2, all datasets are positively skewed. There is a flat tail at the right side of the data. This means there are several outliers (people have high income). From the boxplot, we can see that the Bachelor dataset has less outliers and has less variance. Most people have low salary, there are very little amount of people have salary higher than 200000. "
      ]
    },
    {
      "cell_type": "markdown",
      "metadata": {
        "id": "oYgu65YavqZH"
      },
      "source": [
        "# **Part b**\n",
        "Apply ANOVA to obtain the F-value and p-value of the datasets. The compare whether the mean of the three datasets are significantly different. The threshold is 0.05.\n",
        "\n",
        "First, we need to check the assumptions of the two-sample t-test:\n",
        "\n",
        "1. The datasets have equal variance.\n",
        "2. The datasets are randomly sampled\n",
        "3. The datasets have normal distribution.\n",
        "4. The datasets are independent. "
      ]
    },
    {
      "cell_type": "code",
      "metadata": {
        "colab": {
          "base_uri": "https://localhost:8080/"
        },
        "id": "C0XOt8NSa643",
        "outputId": "79a35b70-0197-4e39-fcfc-833a8c30d9ad"
      },
      "source": [
        "#Check the variance difference of datasets\n",
        "print('Variance of salary of Bachelor: ',np.var(Bachelor_sal['Salary']))\n",
        "print('Variance of salary of Master: ', np.var(Master_sal['Salary']) )\n",
        "print('Variance of salary of Doctoral: ', np.var(Doctor_sal['Salary']))"
      ],
      "execution_count": 129,
      "outputs": [
        {
          "output_type": "stream",
          "name": "stdout",
          "text": [
            "Variance of salary of Bachelor:  3628587097.13386\n",
            "Variance of salary of Master:  4579856244.628926\n",
            "Variance of salary of Doctoral:  7289537992.237206\n"
          ]
        }
      ]
    },
    {
      "cell_type": "markdown",
      "metadata": {
        "id": "cgdN_wTWbtpX"
      },
      "source": [
        "As shown above, the variance are not very different. We can assume equal variance here. "
      ]
    },
    {
      "cell_type": "code",
      "metadata": {
        "colab": {
          "base_uri": "https://localhost:8080/",
          "height": 872
        },
        "id": "iWWJg0M4_59h",
        "outputId": "edcf7c2b-31db-4bb5-fb56-b6c234a10105"
      },
      "source": [
        "#Plot qq plot to check normality\n",
        "qqplot(Bachelor_sal['Salary'], line='s')\n",
        "plt.title(\"qqplot of bachelor's degree\")\n",
        "qqplot(Master_sal['Salary'], line='s')\n",
        "plt.title(\"qqplot of master's degree\")\n",
        "qqplot(Doctor_sal['Salary'], line='s')\n",
        "plt.title(\"qqplot of doctoral degree\")\n",
        "plt.show()"
      ],
      "execution_count": 130,
      "outputs": [
        {
          "output_type": "display_data",
          "data": {
            "image/png": "[encoded data removed]",
            "text/plain": [
              "<Figure size 432x288 with 1 Axes>"
            ]
          },
          "metadata": {
            "needs_background": "light"
          }
        },
        {
          "output_type": "display_data",
          "data": {
            "image/png": "[encoded data removed]",
            "text/plain": [
              "<Figure size 432x288 with 1 Axes>"
            ]
          },
          "metadata": {
            "needs_background": "light"
          }
        },
        {
          "output_type": "display_data",
          "data": {
            "image/png": "[encoded data removed]",
            "text/plain": [
              "<Figure size 432x288 with 1 Axes>"
            ]
          },
          "metadata": {
            "needs_background": "light"
          }
        }
      ]
    },
    {
      "cell_type": "markdown",
      "metadata": {
        "id": "9s_ozDVpaNV4"
      },
      "source": [
        "From the qqplots and the histograms above, both datasets have positively skewed distribution. Hence, in this case the assumption of ANOVA is not satisfied, so we cannot apply ANOVA to the datasets directly. There are also alternatives. First, following the same process as Problem 2,  we will use bootstrap to get datasets of mean, and we can apply ANOVA on the bootstrapped data. Second, we can apply nonparametric test that does not require normal distribution of dataset. For example Kruskal-Wallis H-test can be applied. "
      ]
    },
    {
      "cell_type": "code",
      "metadata": {
        "colab": {
          "base_uri": "https://localhost:8080/"
        },
        "id": "RR-r7BC_vqNE",
        "outputId": "667747fa-b85e-4f74-f9d8-072bf090a0a7"
      },
      "source": [
        "print('Null hypothesis of ANOVA: the means of all datasets are equal. ')\n",
        "ANOVA_result = stats.f_oneway(Bachelor_sal['Salary'],Master_sal['Salary'],Doctor_sal['Salary'])\n",
        "print('The f-value of the ANOVA: ', ANOVA_result[0])\n",
        "print('The p-value of the ANOVA: ', ANOVA_result[1])\n",
        "print('The threshold is: ', 0.05)\n",
        "if ANOVA_result[1] > 0.05:\n",
        "  print('The null hypothesis is correct,  datasets are not statically significant ')\n",
        "else:\n",
        "  print('The null hypothesis is rejected,  datasets are statically significant')"
      ],
      "execution_count": 131,
      "outputs": [
        {
          "output_type": "stream",
          "name": "stdout",
          "text": [
            "Null hypothesis of ANOVA: the means of all datasets are equal. \n",
            "The f-value of the ANOVA:  129.7560112960932\n",
            "The p-value of the ANOVA:  2.4852074227874282e-56\n",
            "The threshold is:  0.05\n",
            "The null hypothesis is rejected,  datasets are statically significant\n"
          ]
        }
      ]
    },
    {
      "cell_type": "markdown",
      "metadata": {
        "id": "hamPVLJqd0rH"
      },
      "source": [
        "As discussed above, the assumption is not satisfied, so ANOVA result is not accurate. We should consult the ANOVA results of the bootstrapped data. "
      ]
    },
    {
      "cell_type": "markdown",
      "metadata": {
        "id": "0_4bMj1hyChJ"
      },
      "source": [
        "# **Part c**\n",
        "Bootstrap the dataset and use 1000 replications. "
      ]
    },
    {
      "cell_type": "code",
      "metadata": {
        "colab": {
          "base_uri": "https://localhost:8080/"
        },
        "id": "_siSaYnJyKXl",
        "outputId": "40ffc783-12e0-4ce2-b066-df0629bed8a7"
      },
      "source": [
        "#Apply the function that is defined in Question 2 part c to apply bootstrap\n",
        "bach_bootstrap = bootstrap_data (Bachelor_sal['Salary'].tolist(), 1000)\n",
        "bach_bootstrap = np.array(bach_bootstrap)\n",
        "print('The size of bootstrapped data: ', len(bach_bootstrap))"
      ],
      "execution_count": 132,
      "outputs": [
        {
          "output_type": "stream",
          "name": "stdout",
          "text": [
            "The size of bootstrapped data:  1000\n"
          ]
        }
      ]
    },
    {
      "cell_type": "code",
      "metadata": {
        "colab": {
          "base_uri": "https://localhost:8080/"
        },
        "id": "aEIr2dnsyiMU",
        "outputId": "5ea1a0d7-bf98-48c9-83e5-c91d8cc5d5c7"
      },
      "source": [
        "mas_bootstrap = bootstrap_data (Master_sal['Salary'].tolist(), 1000)\n",
        "mas_bootstrap = np.array(mas_bootstrap)\n",
        "print('The size of bootstrapped data: ', len(mas_bootstrap))"
      ],
      "execution_count": 133,
      "outputs": [
        {
          "output_type": "stream",
          "name": "stdout",
          "text": [
            "The size of bootstrapped data:  1000\n"
          ]
        }
      ]
    },
    {
      "cell_type": "code",
      "metadata": {
        "colab": {
          "base_uri": "https://localhost:8080/"
        },
        "id": "b3Xo6-nqyn8Z",
        "outputId": "c1f314c1-8651-4acf-bb7d-7f7ef50cfb71"
      },
      "source": [
        "doc_bootstrap = bootstrap_data (Doctor_sal['Salary'].tolist(), 1000)\n",
        "doc_bootstrap = np.array(doc_bootstrap)\n",
        "print('The size of bootstrapped data: ', len(doc_bootstrap))"
      ],
      "execution_count": 134,
      "outputs": [
        {
          "output_type": "stream",
          "name": "stdout",
          "text": [
            "The size of bootstrapped data:  1000\n"
          ]
        }
      ]
    },
    {
      "cell_type": "code",
      "metadata": {
        "id": "0eRxH09Z1Ht6"
      },
      "source": [
        "#calculate the mean difference\n",
        "mean_bach_mas = mas_bootstrap - bach_bootstrap\n",
        "mean_bach_doc = doc_bootstrap - bach_bootstrap\n",
        "mean_mas_doc = doc_bootstrap - mas_bootstrap\n"
      ],
      "execution_count": 135,
      "outputs": []
    },
    {
      "cell_type": "code",
      "metadata": {
        "colab": {
          "base_uri": "https://localhost:8080/",
          "height": 357
        },
        "id": "87H6v_AezmYZ",
        "outputId": "19c276e8-37b1-4866-9318-1c4f58ce8823"
      },
      "source": [
        "#Plot the bootstrapped mean distribution\n",
        "plt.figure(figsize=(18,5))\n",
        "plt.hist(bach_bootstrap, bins='auto',label=\"Bachelor's Degree\")  \n",
        "plt.hist(mas_bootstrap, bins='auto',label=\"Master's Degree\")  \n",
        "plt.hist(doc_bootstrap, bins='auto',label=\"Doctoral Degree\") \n",
        "plt.title(\"Figure 3-1: Salary Distribution of the Bootstrapped Data\") \n",
        "plt.xlabel(\"Salary\")\n",
        "plt.ylabel(\"Number of people\")\n",
        "plt.legend()\n",
        "plt.grid()\n",
        "plt.show()"
      ],
      "execution_count": 136,
      "outputs": [
        {
          "output_type": "display_data",
          "data": {
            "image/png": "[encoded data removed]",
            "text/plain": [
              "<Figure size 1296x360 with 1 Axes>"
            ]
          },
          "metadata": {
            "needs_background": "light"
          }
        }
      ]
    },
    {
      "cell_type": "code",
      "metadata": {
        "colab": {
          "base_uri": "https://localhost:8080/",
          "height": 335
        },
        "id": "Kev-0zo91gbb",
        "outputId": "d2360f61-5e65-4a5a-e4a7-76609481aa06"
      },
      "source": [
        "fig, (ax1, ax2, ax3) = plt.subplots(1, 3, figsize=(20,5))\n",
        "ax1.hist(mean_bach_mas, bins='auto', color='red',alpha = 0.6) \n",
        "ax1.set_title(\"Difference of Mean between Bachelor and Master\")\n",
        "ax1.set(xlabel=\"Salary Difference\", ylabel=\"number of people\")\n",
        "ax1.grid()\n",
        "\n",
        "ax2.hist(mean_bach_doc, bins='auto',color='blue',alpha = 0.6) \n",
        "ax2.set_title(\"Difference of Mean between Bachelor and Doctoral\")\n",
        "ax2.set(xlabel=\"Salary Difference\", ylabel=\"number of people\")\n",
        "ax2.grid()\n",
        "\n",
        "\n",
        "ax3.hist(mean_mas_doc, bins='auto', color='green',alpha = 0.6) \n",
        "ax3.set_title(\"Difference of Mean between Master and Doctoral\")\n",
        "ax3.set(xlabel=\"Salary Difference\", ylabel=\"number of people\")\n",
        "ax3.grid()\n",
        "plt.show()"
      ],
      "execution_count": 137,
      "outputs": [
        {
          "output_type": "display_data",
          "data": {
            "image/png": "[encoded data removed]",
            "text/plain": [
              "<Figure size 1440x360 with 3 Axes>"
            ]
          },
          "metadata": {
            "needs_background": "light"
          }
        }
      ]
    },
    {
      "cell_type": "markdown",
      "metadata": {
        "id": "dUMuscDleXsi"
      },
      "source": [
        "According to the plots above, the bootstrapped distributions are normal distributions. The distribution of difference in means is also normal distribution. Thus, we can process to ANOVA. \n",
        "\n",
        "Obviously, the variance of bootstrapped data of doctoral is larger than the other 2 samples. "
      ]
    },
    {
      "cell_type": "markdown",
      "metadata": {
        "id": "NOFKDPjAzMb_"
      },
      "source": [
        "# **Part d**\n",
        "Perform ANOVA on the bootstrapped dataset "
      ]
    },
    {
      "cell_type": "code",
      "metadata": {
        "colab": {
          "base_uri": "https://localhost:8080/"
        },
        "id": "haW_gTEOexia",
        "outputId": "72ed9e63-b765-4997-fe2d-210e487a8365"
      },
      "source": [
        "#Check the variance\n",
        "boot_bach_var = np.var(bach_bootstrap)\n",
        "boot_mas_var = np.var(mas_bootstrap)\n",
        "boot_doc_var = np.var(doc_bootstrap)\n",
        "print('Variance of bootstrapped data of bachelor: ', boot_bach_var)\n",
        "print('Variance of bootstrapped data of master: ', boot_mas_var )\n",
        "print('Variance of bootstrapped data of doctoral: ', boot_doc_var )\n"
      ],
      "execution_count": 138,
      "outputs": [
        {
          "output_type": "stream",
          "name": "stdout",
          "text": [
            "Variance of bootstrapped data of bachelor:  1167209.6518462035\n",
            "Variance of bootstrapped data of master:  936458.5174280826\n",
            "Variance of bootstrapped data of doctoral:  3997823.6565170223\n"
          ]
        }
      ]
    },
    {
      "cell_type": "markdown",
      "metadata": {
        "id": "m1v1KzMffZem"
      },
      "source": [
        "The variance are not very different, so we can assume equal variance in this problem. "
      ]
    },
    {
      "cell_type": "code",
      "metadata": {
        "colab": {
          "base_uri": "https://localhost:8080/"
        },
        "id": "zd1C2e8qzVdL",
        "outputId": "b52af084-c12c-4535-e5b7-cee62534ac3e"
      },
      "source": [
        "#Perform the anova test on bootstrapped datasets\n",
        "print('Null hypothesis of ANOVA: the means of all datasets are equal. ')\n",
        "\n",
        "ANOVA_result = stats.f_oneway(bach_bootstrap,mas_bootstrap,doc_bootstrap)\n",
        "print('The f-value of the ANOVA: ', ANOVA_result[0])\n",
        "print('The p-value of the ANOVA: ', ANOVA_result[1])\n",
        "print('The threshold is: ', 0.05)\n",
        "t_val, p_val = stats.ttest_ind(a= man_sal_bootstrap, b=woman_sal_bootstrap)\n",
        "#compare with threshold and check the null hypothesis\n",
        "if ANOVA_result[1] > 0.05:\n",
        "  print('The null hypothesis is correct, datasets are not statically significant ')\n",
        "else:\n",
        "  print('The null hypothesis is rejected, datasets are statically significant')"
      ],
      "execution_count": 139,
      "outputs": [
        {
          "output_type": "stream",
          "name": "stdout",
          "text": [
            "Null hypothesis of ANOVA: the means of all datasets are equal. \n",
            "The f-value of the ANOVA:  133894.18190414828\n",
            "The p-value of the ANOVA:  0.0\n",
            "The threshold is:  0.05\n",
            "The null hypothesis is rejected, datasets are statically significant\n"
          ]
        }
      ]
    },
    {
      "cell_type": "markdown",
      "metadata": {
        "id": "ghpZ634sfq3c"
      },
      "source": [
        "Since the mean distributions are normal distribution, we can apply one-way ANOVA test. We assume they have equal variance. The f-value is 133894. The p-value is 0.0. The p-value is much smaller than the threshold (0.05).\n",
        "\n",
        "Thus, the null hypothesis (equal means) is rejected, and difference in means of three datasets are statically significant. People with higher education level will have higher average annual salary."
      ]
    },
    {
      "cell_type": "markdown",
      "metadata": {
        "id": "PNUryQqVzgQw"
      },
      "source": [
        "# **Part e**\n",
        "Findings:\n",
        "\n",
        "In general, the average annual salary of doctoral is highest. Data of bachelor degree and master degree have similar variance. For higher education, salary will be higher. As salary increases, the number of population decreases. However, we do not consider other education levels such as college and high school in this problem. There could be some outliers. \n",
        "\n",
        "As discussed above, the mean of doctoral dataset is much larger than the other two. The difference between three datasets are statistically significant. The null hypothesis (equal mean) is rejected. \n",
        "\n",
        "Same as Problem2, we can obtain the same conclusion that bootstrapp is a easy way to do random sampling and approximate the whole population. This saves time and money. It also helps us to transform the original dataset (positively skewed) into normal distribution, so we can apply ANOVA on the bootstrapped data. "
      ]
    }
  ]
}